{
 "cells": [
  {
   "cell_type": "markdown",
   "metadata": {},
   "source": []
  },
  {
   "cell_type": "code",
   "execution_count": 1,
   "metadata": {},
   "outputs": [
    {
     "name": "stdout",
     "output_type": "stream",
     "text": [
      "{'status': 'Valid Username.'}\n",
      "{'status': 'Valid Username.'}\n"
     ]
    }
   ],
   "source": [
    "import requests, json\n",
    "print(requests.post(\"http://127.0.0.1:5000/users/username\", data=json.dumps({\"username\":\"attieh\"}), headers={ \"Content-Type\":\"application/json\"}).json())\n",
    "print(requests.post(\"http://127.0.0.1:5000/users/username\", data=json.dumps({\"username\":\"joseph\"}), headers={ \"Content-Type\":\"application/json\"}).json())"
   ]
  },
  {
   "cell_type": "code",
   "execution_count": 3,
   "metadata": {},
   "outputs": [
    {
     "data": {
      "text/plain": [
       "[]"
      ]
     },
     "execution_count": 3,
     "metadata": {},
     "output_type": "execute_result"
    }
   ],
   "source": [
    "requests.post(\"http://127.0.0.1:5000/users/account/search/wild\", data= json.dumps({\"username\":\"\",\"email\":\"\",\"name\":\"\", \"gender\":\"\", \"dateOfBirth\":\"\", \"role\":\"OPERATOR\"}),headers={ \"Content-Type\":\"application/json\"}).json()"
   ]
  },
  {
   "cell_type": "code",
   "execution_count": 11,
   "metadata": {},
   "outputs": [
    {
     "data": {
      "text/plain": [
       "{'status': 'Valid email address.'}"
      ]
     },
     "execution_count": 11,
     "metadata": {},
     "output_type": "execute_result"
    }
   ],
   "source": [
    "requests.post(\"http://127.0.0.1:5000/users/email\", data=json.dumps({\"email\":\"attieh@ok.co\"}), headers={ \"Content-Type\":\"application/json\"}).json()"
   ]
  },
  {
   "cell_type": "code",
   "execution_count": 12,
   "metadata": {
    "scrolled": true
   },
   "outputs": [
    {
     "name": "stdout",
     "output_type": "stream",
     "text": [
      "{'status': 'Credential request was not checked yet.'}\n",
      "{'status': ' Credential request was not approved. Reason: Not allowed !'}\n",
      "{'status': ' Successful Login', 'user': {'_id': {'$oid': '5ebd4c490fbae15037c9843d'}, 'reason': '', 'status': 'Approved', 'username': 'clara', 'password': 'admin123', 'email': 'ajauin@email.com', 'name': 'system administrator', 'isAuthenticated': 'yes', 'dateOfBirth': '12/06/2020', 'gender': '', 'picture': '', 'role': 'admin', 'roleDescription': 'The system administrator have access to the same functionalities available to the ECG operator. Additionally, he/she is able to search for the users in the system and update their user role if needed. Furthermore, he/she will be able to approve the account requests of the other users. '}}\n",
      "{'status': 'Invalid username and/or password'}\n"
     ]
    }
   ],
   "source": [
    "print(requests.post(\"http://127.0.0.1:5000/users/authenticate\", data=json.dumps({\"username\":\"joseph\", \"password\":\"admin123\"}), headers={ \"Content-Type\":\"application/json\"}).json())\n",
    "print(requests.post(\"http://127.0.0.1:5000/users/authenticate\", data=json.dumps({\"username\":\"guy\", \"password\":\"admin123\"}), headers={ \"Content-Type\":\"application/json\"}).json())\n",
    "print(requests.post(\"http://127.0.0.1:5000/users/authenticate\", data=json.dumps({\"username\":\"clara\", \"password\":\"admin123\"}), headers={ \"Content-Type\":\"application/json\"}).json())\n",
    "print(requests.post(\"http://127.0.0.1:5000/users/authenticate\", data=json.dumps({\"username\":\"joe\", \"password\":\"tekli\"}), headers={ \"Content-Type\":\"application/json\"}).json())"
   ]
  },
  {
   "cell_type": "code",
   "execution_count": 13,
   "metadata": {},
   "outputs": [
    {
     "name": "stdout",
     "output_type": "stream",
     "text": [
      "{'status': 'Your request has been sent'}\n"
     ]
    }
   ],
   "source": [
    "print(requests.post(\"http://127.0.0.1:5000/users/request/add\", data=json.dumps({\"username\":\"joe\", \"password\":\"tekli\", \"email\":\"joe.tekli\", \"name\":\"Joe Tekli\", \"gender\":\"Male\", \"dateOfBirth\":\"1/11/1998\", \"role\":\"admin\", \"roleDescription\":\"okkkk\", \"picture\":\"Pic\"}), headers={ \"Content-Type\":\"application/json\"}).json())\n"
   ]
  },
  {
   "cell_type": "code",
   "execution_count": 14,
   "metadata": {},
   "outputs": [
    {
     "name": "stdout",
     "output_type": "stream",
     "text": [
      "{'status': 'success'}\n"
     ]
    }
   ],
   "source": [
    "print(requests.post(\"http://127.0.0.1:5000/users/request/approve\", data=json.dumps({\"username\":\"joe\"}), headers={ \"Content-Type\":\"application/json\"}).json())\n"
   ]
  },
  {
   "cell_type": "code",
   "execution_count": 43,
   "metadata": {},
   "outputs": [
    {
     "name": "stdout",
     "output_type": "stream",
     "text": [
      "[{'_id': {'$oid': '5ebe5a077e23d99b96311987'}, 'reason': '', 'status': '', 'username': 'joseph', 'password': 'admin123', 'email': 'ajauin@email.com', 'name': 'system administrator', 'isAuthenticated': 'yes', 'dateOfBirth': '12/06/2020', 'gender': '', 'picture': '', 'role': 'operator', 'roleDescription': 'The system administrator have access to the same functionalities available to the ECG operator. Additionally, he/she is able to search for the users in the system and update their user role if needed. Furthermore, he/she will be able to approve the account requests of the other users. '}, {'_id': {'$oid': '5ebe5c2a7e23d99b9631198d'}, 'reason': '', 'status': '', 'username': '', 'password': '', 'email': '', 'name': 'EventsManager', 'gender': '', 'dateOfBirth': '', 'role': '', 'roleDescription': '', 'picture': 'picture test'}]\n"
     ]
    }
   ],
   "source": [
    "print(requests.post(\"http://127.0.0.1:5000/users/request/list\").json())"
   ]
  },
  {
   "cell_type": "code",
   "execution_count": 40,
   "metadata": {},
   "outputs": [
    {
     "name": "stdout",
     "output_type": "stream",
     "text": [
      "[{'_id': {'$oid': '5ebd4c490fbae15037c9843b'}, 'username': 'admin', 'password': 'tekli', 'email': 'joe.tekli', 'name': 'Joe Tekli', 'isAuthenticated': 'yes', 'dateOfBirth': '1/11/1998', 'gender': 'Male', 'picture': 'Pic', 'role': 'ok', 'roleDescription': 'okkkk'}, {'_id': {'$oid': '5ebd4c5c3fdd49f1aeed8352'}, 'username': 'admin', 'password': 'tekli', 'email': 'joe.tekli', 'name': 'Joe Tekli', 'isAuthenticated': 'yes', 'dateOfBirth': '1/11/1998', 'gender': 'Male', 'picture': 'Pic', 'role': 'ok', 'roleDescription': 'okkkk'}, {'_id': {'$oid': '5ebd4c64221dbb413e767691'}, 'username': 'admin', 'password': 'tekli', 'email': 'joe.tekli', 'name': 'Joe Tekli', 'isAuthenticated': 'yes', 'dateOfBirth': '1/11/1998', 'gender': 'Male', 'picture': 'Pic', 'role': 'ok', 'roleDescription': 'okkkk'}, {'_id': {'$oid': '5ebd4c65dd39d929950ce78b'}, 'username': 'admin', 'password': 'tekli', 'email': 'joe.tekli', 'name': 'Joe Tekli', 'isAuthenticated': 'yes', 'dateOfBirth': '1/11/1998', 'gender': 'Male', 'picture': 'Pic', 'role': 'ok', 'roleDescription': 'okkkk'}, {'_id': {'$oid': '5ebd51bc8ec193989b242782'}, 'username': 'admin', 'password': 'tekli', 'email': 'joe.tekli', 'name': 'Joe Tekli', 'isAuthenticated': 'yes', 'dateOfBirth': '1/11/1998', 'gender': 'Male', 'picture': 'Pic', 'role': 'ok', 'roleDescription': 'okkkk'}, {'_id': {'$oid': '5ebd959cec621c1b7dc2fda8'}, 'username': 'admin', 'password': 'tekli', 'email': 'joe.tekli', 'name': 'Joe Tekli', 'isAuthenticated': 'yes', 'dateOfBirth': '1/11/1998', 'gender': 'Male', 'picture': 'Pic', 'role': 'ok', 'roleDescription': 'okkkk'}, {'_id': {'$oid': '5ebd959d1121f1b151184d90'}, 'username': 'admin', 'password': 'tekli', 'email': 'joe.tekli', 'name': 'Joe Tekli', 'isAuthenticated': 'yes', 'dateOfBirth': '1/11/1998', 'gender': 'Male', 'picture': 'Pic', 'role': 'ok', 'roleDescription': 'okkkk'}, {'_id': {'$oid': '5ebd9706e25a27cbaca3ff39'}, 'username': 'admin', 'password': 'tekli', 'email': 'joe.tekli', 'name': 'Joe Tekli', 'isAuthenticated': 'yes', 'dateOfBirth': '1/11/1998', 'gender': 'Male', 'picture': 'Pic', 'role': 'ok', 'roleDescription': 'okkkk'}, {'_id': {'$oid': '5ebd97555370b15c43383af7'}, 'username': 'admin', 'password': 'tekli', 'email': 'joe.tekli', 'name': 'Joe Tekli', 'isAuthenticated': 'yes', 'dateOfBirth': '1/11/1998', 'gender': 'Male', 'picture': 'Pic', 'role': 'ok', 'roleDescription': 'okkkk'}, {'_id': {'$oid': '5ebd9763bf15a1a107190495'}, 'username': 'admin', 'password': 'tekli', 'email': 'joe.tekli', 'name': 'Joe Tekli', 'isAuthenticated': 'yes', 'dateOfBirth': '1/11/1998', 'gender': 'Male', 'picture': 'Pic', 'role': 'ok', 'roleDescription': 'okkkk'}, {'_id': {'$oid': '5ebda74fa6f08c906f74e1ed'}, 'username': 'admin', 'password': 'tekli', 'email': 'joe.tekli', 'name': 'Joe Tekli', 'isAuthenticated': 'yes', 'dateOfBirth': '1/11/1998', 'gender': 'Male', 'picture': 'Pic', 'role': 'ok', 'roleDescription': 'okkkk'}, {'_id': {'$oid': '5ebd4c490fbae15037c9843d'}, 'reason': '', 'status': 'Approved', 'username': 'clara', 'password': 'admin123', 'email': 'ajauin@email.com', 'name': 'system administrator', 'isAuthenticated': 'yes', 'dateOfBirth': '12/06/2020', 'gender': '', 'picture': '', 'role': 'admin', 'roleDescription': 'The system administrator have access to the same functionalities available to the ECG operator. Additionally, he/she is able to search for the users in the system and update their user role if needed. Furthermore, he/she will be able to approve the account requests of the other users. '}]\n"
     ]
    }
   ],
   "source": [
    "print(requests.post(\"http://127.0.0.1:5000/users/account/list\").json())"
   ]
  },
  {
   "cell_type": "code",
   "execution_count": 19,
   "metadata": {},
   "outputs": [
    {
     "name": "stdout",
     "output_type": "stream",
     "text": [
      "{'_id': {'$oid': '5ebd4c490fbae15037c9843b'}, 'username': 'admin', 'password': 'admin123', 'email': 'admin@email.com', 'name': 'system administrator', 'isAuthenticated': 'yes', 'dateOfBirth': '12/06/2020', 'gender': '', 'picture': '', 'role': 'admin', 'roleDescription': 'The system administrator have access to the same functionalities available to the ECG operator. Additionally, he/she is able to search for the users in the system and update their user role if needed. Furthermore, he/she will be able to approve the account requests of the other users. '}\n",
      "{'_id': {'$oid': '5ebd4c490fbae15037c9843d'}, 'reason': '', 'status': 'Approved', 'username': 'clara', 'password': 'admin123', 'email': 'ajauin@email.com', 'name': 'system administrator', 'isAuthenticated': 'yes', 'dateOfBirth': '12/06/2020', 'gender': '', 'picture': '', 'role': 'admin', 'roleDescription': 'The system administrator have access to the same functionalities available to the ECG operator. Additionally, he/she is able to search for the users in the system and update their user role if needed. Furthermore, he/she will be able to approve the account requests of the other users. '}\n"
     ]
    }
   ],
   "source": [
    "print(requests.post(\"http://127.0.0.1:5000/users/account/get\", data=json.dumps({\"username\":\"admin\"}), headers={ \"Content-Type\":\"application/json\"}).json())\n",
    "print(requests.post(\"http://127.0.0.1:5000/users/account/get\", data=json.dumps({\"username\":\"clara\"}), headers={ \"Content-Type\":\"application/json\"}).json())"
   ]
  },
  {
   "cell_type": "code",
   "execution_count": 20,
   "metadata": {},
   "outputs": [
    {
     "name": "stdout",
     "output_type": "stream",
     "text": [
      "{'status': 'success'}\n"
     ]
    }
   ],
   "source": [
    "print(requests.post(\"http://127.0.0.1:5000/users/account/update\", data=json.dumps({\"username\":\"admin\", \"password\":\"tekli\", \"email\":\"joe.tekli\", \"name\":\"Joe Tekli\", \"gender\":\"Male\", \"dateOfBirth\":\"1/11/1998\",  \"roleDescription\":\"okkkk\", \"picture\":\"Pic\"}), headers={ \"Content-Type\":\"application/json\"}).json())\n"
   ]
  },
  {
   "cell_type": "code",
   "execution_count": 21,
   "metadata": {},
   "outputs": [
    {
     "name": "stdout",
     "output_type": "stream",
     "text": [
      "{'status': 'success'}\n"
     ]
    }
   ],
   "source": [
    "print(requests.post(\"http://127.0.0.1:5000/users/rolechange/request\", data=json.dumps({\"username\":\"admin\", \"newRole\":\"ok\", \"reason\":\"Ok\"}), headers={ \"Content-Type\":\"application/json\"}).json())\n"
   ]
  },
  {
   "cell_type": "code",
   "execution_count": 22,
   "metadata": {},
   "outputs": [
    {
     "name": "stdout",
     "output_type": "stream",
     "text": [
      "{'status': 'success'}\n"
     ]
    }
   ],
   "source": [
    "print(requests.post(\"http://127.0.0.1:5000/users/rolechange/approve\", data=json.dumps({\"username\":\"admin\", \"myUsername\":\"joseph\"}), headers={ \"Content-Type\":\"application/json\"}).json())\n"
   ]
  },
  {
   "cell_type": "code",
   "execution_count": 39,
   "metadata": {},
   "outputs": [
    {
     "name": "stdout",
     "output_type": "stream",
     "text": [
      "[]\n"
     ]
    }
   ],
   "source": [
    "print(requests.post(\"http://127.0.0.1:5000/users/rolechange/list\").json())"
   ]
  },
  {
   "cell_type": "code",
   "execution_count": 42,
   "metadata": {},
   "outputs": [
    {
     "name": "stdout",
     "output_type": "stream",
     "text": [
      "[]\n"
     ]
    }
   ],
   "source": [
    "print(requests.post(\"http://127.0.0.1:5000/patients/list\").json())"
   ]
  },
  {
   "cell_type": "code",
   "execution_count": 25,
   "metadata": {},
   "outputs": [
    {
     "name": "stdout",
     "output_type": "stream",
     "text": [
      "{'_id': {'$oid': '5ebd4c490fbae15037c9843f'}, 'patientId': 'P0001', 'name': 'Theresa', 'gender': 'Female', 'picture': '', 'bloodType': 'A+', 'diseases': ['disease1', 'disease2']}\n"
     ]
    }
   ],
   "source": [
    "print(requests.post(\"http://127.0.0.1:5000/patients/get\", data=json.dumps({\"patientId\":\"P0001\"}), headers={ \"Content-Type\":\"application/json\"}).json())"
   ]
  },
  {
   "cell_type": "code",
   "execution_count": 26,
   "metadata": {},
   "outputs": [
    {
     "name": "stdout",
     "output_type": "stream",
     "text": [
      "{'status': 'success'}\n"
     ]
    }
   ],
   "source": [
    "print(requests.post(\"http://127.0.0.1:5000/patients/update\", data=json.dumps({\"patientId\":\"P0001\", \"gender\":\"Male\",'name': 'Theresa', 'picture': '', 'bloodType': 'A+', 'diseases': ['disease1', 'disease2']}), headers={ \"Content-Type\":\"application/json\"}).json())"
   ]
  },
  {
   "cell_type": "code",
   "execution_count": 27,
   "metadata": {},
   "outputs": [
    {
     "name": "stdout",
     "output_type": "stream",
     "text": [
      "{'status': 'success'}\n"
     ]
    }
   ],
   "source": [
    "print(requests.post(\"http://127.0.0.1:5000/patients/delete\", data=json.dumps({\"patientId\":\"P0001\"}), headers={ \"Content-Type\":\"application/json\"}).json())"
   ]
  },
  {
   "cell_type": "code",
   "execution_count": 28,
   "metadata": {},
   "outputs": [
    {
     "ename": "JSONDecodeError",
     "evalue": "Expecting value: line 1 column 1 (char 0)",
     "output_type": "error",
     "traceback": [
      "\u001b[1;31m---------------------------------------------------------------------------\u001b[0m",
      "\u001b[1;31mJSONDecodeError\u001b[0m                           Traceback (most recent call last)",
      "\u001b[1;32m<ipython-input-28-5b2709379992>\u001b[0m in \u001b[0;36m<module>\u001b[1;34m\u001b[0m\n\u001b[1;32m----> 1\u001b[1;33m \u001b[0mprint\u001b[0m\u001b[1;33m(\u001b[0m\u001b[0mrequests\u001b[0m\u001b[1;33m.\u001b[0m\u001b[0mget\u001b[0m\u001b[1;33m(\u001b[0m\u001b[1;34m\"http://127.0.0.1:5000/ecgs/patientless/list\"\u001b[0m\u001b[1;33m)\u001b[0m\u001b[1;33m.\u001b[0m\u001b[0mjson\u001b[0m\u001b[1;33m(\u001b[0m\u001b[1;33m)\u001b[0m\u001b[1;33m)\u001b[0m\u001b[1;33m\u001b[0m\u001b[1;33m\u001b[0m\u001b[0m\n\u001b[0m",
      "\u001b[1;32mc:\\users\\dell\\appdata\\local\\programs\\python\\python38\\lib\\site-packages\\requests\\models.py\u001b[0m in \u001b[0;36mjson\u001b[1;34m(self, **kwargs)\u001b[0m\n\u001b[0;32m    896\u001b[0m                     \u001b[1;31m# used.\u001b[0m\u001b[1;33m\u001b[0m\u001b[1;33m\u001b[0m\u001b[1;33m\u001b[0m\u001b[0m\n\u001b[0;32m    897\u001b[0m                     \u001b[1;32mpass\u001b[0m\u001b[1;33m\u001b[0m\u001b[1;33m\u001b[0m\u001b[0m\n\u001b[1;32m--> 898\u001b[1;33m         \u001b[1;32mreturn\u001b[0m \u001b[0mcomplexjson\u001b[0m\u001b[1;33m.\u001b[0m\u001b[0mloads\u001b[0m\u001b[1;33m(\u001b[0m\u001b[0mself\u001b[0m\u001b[1;33m.\u001b[0m\u001b[0mtext\u001b[0m\u001b[1;33m,\u001b[0m \u001b[1;33m**\u001b[0m\u001b[0mkwargs\u001b[0m\u001b[1;33m)\u001b[0m\u001b[1;33m\u001b[0m\u001b[1;33m\u001b[0m\u001b[0m\n\u001b[0m\u001b[0;32m    899\u001b[0m \u001b[1;33m\u001b[0m\u001b[0m\n\u001b[0;32m    900\u001b[0m     \u001b[1;33m@\u001b[0m\u001b[0mproperty\u001b[0m\u001b[1;33m\u001b[0m\u001b[1;33m\u001b[0m\u001b[0m\n",
      "\u001b[1;32mc:\\users\\dell\\appdata\\local\\programs\\python\\python38\\lib\\json\\__init__.py\u001b[0m in \u001b[0;36mloads\u001b[1;34m(s, cls, object_hook, parse_float, parse_int, parse_constant, object_pairs_hook, **kw)\u001b[0m\n\u001b[0;32m    355\u001b[0m             \u001b[0mparse_int\u001b[0m \u001b[1;32mis\u001b[0m \u001b[1;32mNone\u001b[0m \u001b[1;32mand\u001b[0m \u001b[0mparse_float\u001b[0m \u001b[1;32mis\u001b[0m \u001b[1;32mNone\u001b[0m \u001b[1;32mand\u001b[0m\u001b[1;33m\u001b[0m\u001b[1;33m\u001b[0m\u001b[0m\n\u001b[0;32m    356\u001b[0m             parse_constant is None and object_pairs_hook is None and not kw):\n\u001b[1;32m--> 357\u001b[1;33m         \u001b[1;32mreturn\u001b[0m \u001b[0m_default_decoder\u001b[0m\u001b[1;33m.\u001b[0m\u001b[0mdecode\u001b[0m\u001b[1;33m(\u001b[0m\u001b[0ms\u001b[0m\u001b[1;33m)\u001b[0m\u001b[1;33m\u001b[0m\u001b[1;33m\u001b[0m\u001b[0m\n\u001b[0m\u001b[0;32m    358\u001b[0m     \u001b[1;32mif\u001b[0m \u001b[0mcls\u001b[0m \u001b[1;32mis\u001b[0m \u001b[1;32mNone\u001b[0m\u001b[1;33m:\u001b[0m\u001b[1;33m\u001b[0m\u001b[1;33m\u001b[0m\u001b[0m\n\u001b[0;32m    359\u001b[0m         \u001b[0mcls\u001b[0m \u001b[1;33m=\u001b[0m \u001b[0mJSONDecoder\u001b[0m\u001b[1;33m\u001b[0m\u001b[1;33m\u001b[0m\u001b[0m\n",
      "\u001b[1;32mc:\\users\\dell\\appdata\\local\\programs\\python\\python38\\lib\\json\\decoder.py\u001b[0m in \u001b[0;36mdecode\u001b[1;34m(self, s, _w)\u001b[0m\n\u001b[0;32m    335\u001b[0m \u001b[1;33m\u001b[0m\u001b[0m\n\u001b[0;32m    336\u001b[0m         \"\"\"\n\u001b[1;32m--> 337\u001b[1;33m         \u001b[0mobj\u001b[0m\u001b[1;33m,\u001b[0m \u001b[0mend\u001b[0m \u001b[1;33m=\u001b[0m \u001b[0mself\u001b[0m\u001b[1;33m.\u001b[0m\u001b[0mraw_decode\u001b[0m\u001b[1;33m(\u001b[0m\u001b[0ms\u001b[0m\u001b[1;33m,\u001b[0m \u001b[0midx\u001b[0m\u001b[1;33m=\u001b[0m\u001b[0m_w\u001b[0m\u001b[1;33m(\u001b[0m\u001b[0ms\u001b[0m\u001b[1;33m,\u001b[0m \u001b[1;36m0\u001b[0m\u001b[1;33m)\u001b[0m\u001b[1;33m.\u001b[0m\u001b[0mend\u001b[0m\u001b[1;33m(\u001b[0m\u001b[1;33m)\u001b[0m\u001b[1;33m)\u001b[0m\u001b[1;33m\u001b[0m\u001b[1;33m\u001b[0m\u001b[0m\n\u001b[0m\u001b[0;32m    338\u001b[0m         \u001b[0mend\u001b[0m \u001b[1;33m=\u001b[0m \u001b[0m_w\u001b[0m\u001b[1;33m(\u001b[0m\u001b[0ms\u001b[0m\u001b[1;33m,\u001b[0m \u001b[0mend\u001b[0m\u001b[1;33m)\u001b[0m\u001b[1;33m.\u001b[0m\u001b[0mend\u001b[0m\u001b[1;33m(\u001b[0m\u001b[1;33m)\u001b[0m\u001b[1;33m\u001b[0m\u001b[1;33m\u001b[0m\u001b[0m\n\u001b[0;32m    339\u001b[0m         \u001b[1;32mif\u001b[0m \u001b[0mend\u001b[0m \u001b[1;33m!=\u001b[0m \u001b[0mlen\u001b[0m\u001b[1;33m(\u001b[0m\u001b[0ms\u001b[0m\u001b[1;33m)\u001b[0m\u001b[1;33m:\u001b[0m\u001b[1;33m\u001b[0m\u001b[1;33m\u001b[0m\u001b[0m\n",
      "\u001b[1;32mc:\\users\\dell\\appdata\\local\\programs\\python\\python38\\lib\\json\\decoder.py\u001b[0m in \u001b[0;36mraw_decode\u001b[1;34m(self, s, idx)\u001b[0m\n\u001b[0;32m    353\u001b[0m             \u001b[0mobj\u001b[0m\u001b[1;33m,\u001b[0m \u001b[0mend\u001b[0m \u001b[1;33m=\u001b[0m \u001b[0mself\u001b[0m\u001b[1;33m.\u001b[0m\u001b[0mscan_once\u001b[0m\u001b[1;33m(\u001b[0m\u001b[0ms\u001b[0m\u001b[1;33m,\u001b[0m \u001b[0midx\u001b[0m\u001b[1;33m)\u001b[0m\u001b[1;33m\u001b[0m\u001b[1;33m\u001b[0m\u001b[0m\n\u001b[0;32m    354\u001b[0m         \u001b[1;32mexcept\u001b[0m \u001b[0mStopIteration\u001b[0m \u001b[1;32mas\u001b[0m \u001b[0merr\u001b[0m\u001b[1;33m:\u001b[0m\u001b[1;33m\u001b[0m\u001b[1;33m\u001b[0m\u001b[0m\n\u001b[1;32m--> 355\u001b[1;33m             \u001b[1;32mraise\u001b[0m \u001b[0mJSONDecodeError\u001b[0m\u001b[1;33m(\u001b[0m\u001b[1;34m\"Expecting value\"\u001b[0m\u001b[1;33m,\u001b[0m \u001b[0ms\u001b[0m\u001b[1;33m,\u001b[0m \u001b[0merr\u001b[0m\u001b[1;33m.\u001b[0m\u001b[0mvalue\u001b[0m\u001b[1;33m)\u001b[0m \u001b[1;32mfrom\u001b[0m \u001b[1;32mNone\u001b[0m\u001b[1;33m\u001b[0m\u001b[1;33m\u001b[0m\u001b[0m\n\u001b[0m\u001b[0;32m    356\u001b[0m         \u001b[1;32mreturn\u001b[0m \u001b[0mobj\u001b[0m\u001b[1;33m,\u001b[0m \u001b[0mend\u001b[0m\u001b[1;33m\u001b[0m\u001b[1;33m\u001b[0m\u001b[0m\n",
      "\u001b[1;31mJSONDecodeError\u001b[0m: Expecting value: line 1 column 1 (char 0)"
     ]
    }
   ],
   "source": [
    "print(requests.get(\"http://127.0.0.1:5000/ecgs/patientless/list\").json())"
   ]
  },
  {
   "cell_type": "code",
   "execution_count": 29,
   "metadata": {},
   "outputs": [
    {
     "name": "stdout",
     "output_type": "stream",
     "text": [
      "{'status': 'success'}\n"
     ]
    }
   ],
   "source": [
    "print(requests.post(\"http://127.0.0.1:5000/ecgs/patientless/add\", data=json.dumps({\"ecgId\":\"E001\", \"data\":[10,000,102992,9], \"fs\":300, \"picture\":\"\"}), headers={ \"Content-Type\":\"application/json\"}).json())"
   ]
  },
  {
   "cell_type": "code",
   "execution_count": 30,
   "metadata": {},
   "outputs": [
    {
     "name": "stdout",
     "output_type": "stream",
     "text": [
      "{'_id': {'$oid': '5ebda7d9a6f08c906f74e1f6'}, 'ecgId': 'E001', 'data': [10, 0, 102992, 9], 'fs': 300, 'dateOfAcquisition': '14/05/2020', 'timeOfAcquisition': '23:19:37', 'picture': ''}\n"
     ]
    }
   ],
   "source": [
    "print(requests.post(\"http://127.0.0.1:5000/ecgs/patientless/get\", data=json.dumps({\"ecgId\":\"E001\"}), headers={ \"Content-Type\":\"application/json\"}).json())"
   ]
  },
  {
   "cell_type": "code",
   "execution_count": 31,
   "metadata": {},
   "outputs": [
    {
     "name": "stdout",
     "output_type": "stream",
     "text": [
      "{'status': 'success'}\n"
     ]
    }
   ],
   "source": [
    "print(requests.post(\"http://127.0.0.1:5000/ecgs/patientless/delete\", data=json.dumps({\"ecgId\":\"E001\"}), headers={ \"Content-Type\":\"application/json\"}).json())"
   ]
  },
  {
   "cell_type": "code",
   "execution_count": 32,
   "metadata": {},
   "outputs": [
    {
     "ename": "JSONDecodeError",
     "evalue": "Expecting value: line 1 column 1 (char 0)",
     "output_type": "error",
     "traceback": [
      "\u001b[1;31m---------------------------------------------------------------------------\u001b[0m",
      "\u001b[1;31mJSONDecodeError\u001b[0m                           Traceback (most recent call last)",
      "\u001b[1;32m<ipython-input-32-05d815c30638>\u001b[0m in \u001b[0;36m<module>\u001b[1;34m\u001b[0m\n\u001b[1;32m----> 1\u001b[1;33m \u001b[0mprint\u001b[0m\u001b[1;33m(\u001b[0m\u001b[0mrequests\u001b[0m\u001b[1;33m.\u001b[0m\u001b[0mget\u001b[0m\u001b[1;33m(\u001b[0m\u001b[1;34m\"http://127.0.0.1:5000/ecgs/patientrecords/list\"\u001b[0m\u001b[1;33m)\u001b[0m\u001b[1;33m.\u001b[0m\u001b[0mjson\u001b[0m\u001b[1;33m(\u001b[0m\u001b[1;33m)\u001b[0m\u001b[1;33m)\u001b[0m\u001b[1;33m\u001b[0m\u001b[1;33m\u001b[0m\u001b[0m\n\u001b[0m",
      "\u001b[1;32mc:\\users\\dell\\appdata\\local\\programs\\python\\python38\\lib\\site-packages\\requests\\models.py\u001b[0m in \u001b[0;36mjson\u001b[1;34m(self, **kwargs)\u001b[0m\n\u001b[0;32m    896\u001b[0m                     \u001b[1;31m# used.\u001b[0m\u001b[1;33m\u001b[0m\u001b[1;33m\u001b[0m\u001b[1;33m\u001b[0m\u001b[0m\n\u001b[0;32m    897\u001b[0m                     \u001b[1;32mpass\u001b[0m\u001b[1;33m\u001b[0m\u001b[1;33m\u001b[0m\u001b[0m\n\u001b[1;32m--> 898\u001b[1;33m         \u001b[1;32mreturn\u001b[0m \u001b[0mcomplexjson\u001b[0m\u001b[1;33m.\u001b[0m\u001b[0mloads\u001b[0m\u001b[1;33m(\u001b[0m\u001b[0mself\u001b[0m\u001b[1;33m.\u001b[0m\u001b[0mtext\u001b[0m\u001b[1;33m,\u001b[0m \u001b[1;33m**\u001b[0m\u001b[0mkwargs\u001b[0m\u001b[1;33m)\u001b[0m\u001b[1;33m\u001b[0m\u001b[1;33m\u001b[0m\u001b[0m\n\u001b[0m\u001b[0;32m    899\u001b[0m \u001b[1;33m\u001b[0m\u001b[0m\n\u001b[0;32m    900\u001b[0m     \u001b[1;33m@\u001b[0m\u001b[0mproperty\u001b[0m\u001b[1;33m\u001b[0m\u001b[1;33m\u001b[0m\u001b[0m\n",
      "\u001b[1;32mc:\\users\\dell\\appdata\\local\\programs\\python\\python38\\lib\\json\\__init__.py\u001b[0m in \u001b[0;36mloads\u001b[1;34m(s, cls, object_hook, parse_float, parse_int, parse_constant, object_pairs_hook, **kw)\u001b[0m\n\u001b[0;32m    355\u001b[0m             \u001b[0mparse_int\u001b[0m \u001b[1;32mis\u001b[0m \u001b[1;32mNone\u001b[0m \u001b[1;32mand\u001b[0m \u001b[0mparse_float\u001b[0m \u001b[1;32mis\u001b[0m \u001b[1;32mNone\u001b[0m \u001b[1;32mand\u001b[0m\u001b[1;33m\u001b[0m\u001b[1;33m\u001b[0m\u001b[0m\n\u001b[0;32m    356\u001b[0m             parse_constant is None and object_pairs_hook is None and not kw):\n\u001b[1;32m--> 357\u001b[1;33m         \u001b[1;32mreturn\u001b[0m \u001b[0m_default_decoder\u001b[0m\u001b[1;33m.\u001b[0m\u001b[0mdecode\u001b[0m\u001b[1;33m(\u001b[0m\u001b[0ms\u001b[0m\u001b[1;33m)\u001b[0m\u001b[1;33m\u001b[0m\u001b[1;33m\u001b[0m\u001b[0m\n\u001b[0m\u001b[0;32m    358\u001b[0m     \u001b[1;32mif\u001b[0m \u001b[0mcls\u001b[0m \u001b[1;32mis\u001b[0m \u001b[1;32mNone\u001b[0m\u001b[1;33m:\u001b[0m\u001b[1;33m\u001b[0m\u001b[1;33m\u001b[0m\u001b[0m\n\u001b[0;32m    359\u001b[0m         \u001b[0mcls\u001b[0m \u001b[1;33m=\u001b[0m \u001b[0mJSONDecoder\u001b[0m\u001b[1;33m\u001b[0m\u001b[1;33m\u001b[0m\u001b[0m\n",
      "\u001b[1;32mc:\\users\\dell\\appdata\\local\\programs\\python\\python38\\lib\\json\\decoder.py\u001b[0m in \u001b[0;36mdecode\u001b[1;34m(self, s, _w)\u001b[0m\n\u001b[0;32m    335\u001b[0m \u001b[1;33m\u001b[0m\u001b[0m\n\u001b[0;32m    336\u001b[0m         \"\"\"\n\u001b[1;32m--> 337\u001b[1;33m         \u001b[0mobj\u001b[0m\u001b[1;33m,\u001b[0m \u001b[0mend\u001b[0m \u001b[1;33m=\u001b[0m \u001b[0mself\u001b[0m\u001b[1;33m.\u001b[0m\u001b[0mraw_decode\u001b[0m\u001b[1;33m(\u001b[0m\u001b[0ms\u001b[0m\u001b[1;33m,\u001b[0m \u001b[0midx\u001b[0m\u001b[1;33m=\u001b[0m\u001b[0m_w\u001b[0m\u001b[1;33m(\u001b[0m\u001b[0ms\u001b[0m\u001b[1;33m,\u001b[0m \u001b[1;36m0\u001b[0m\u001b[1;33m)\u001b[0m\u001b[1;33m.\u001b[0m\u001b[0mend\u001b[0m\u001b[1;33m(\u001b[0m\u001b[1;33m)\u001b[0m\u001b[1;33m)\u001b[0m\u001b[1;33m\u001b[0m\u001b[1;33m\u001b[0m\u001b[0m\n\u001b[0m\u001b[0;32m    338\u001b[0m         \u001b[0mend\u001b[0m \u001b[1;33m=\u001b[0m \u001b[0m_w\u001b[0m\u001b[1;33m(\u001b[0m\u001b[0ms\u001b[0m\u001b[1;33m,\u001b[0m \u001b[0mend\u001b[0m\u001b[1;33m)\u001b[0m\u001b[1;33m.\u001b[0m\u001b[0mend\u001b[0m\u001b[1;33m(\u001b[0m\u001b[1;33m)\u001b[0m\u001b[1;33m\u001b[0m\u001b[1;33m\u001b[0m\u001b[0m\n\u001b[0;32m    339\u001b[0m         \u001b[1;32mif\u001b[0m \u001b[0mend\u001b[0m \u001b[1;33m!=\u001b[0m \u001b[0mlen\u001b[0m\u001b[1;33m(\u001b[0m\u001b[0ms\u001b[0m\u001b[1;33m)\u001b[0m\u001b[1;33m:\u001b[0m\u001b[1;33m\u001b[0m\u001b[1;33m\u001b[0m\u001b[0m\n",
      "\u001b[1;32mc:\\users\\dell\\appdata\\local\\programs\\python\\python38\\lib\\json\\decoder.py\u001b[0m in \u001b[0;36mraw_decode\u001b[1;34m(self, s, idx)\u001b[0m\n\u001b[0;32m    353\u001b[0m             \u001b[0mobj\u001b[0m\u001b[1;33m,\u001b[0m \u001b[0mend\u001b[0m \u001b[1;33m=\u001b[0m \u001b[0mself\u001b[0m\u001b[1;33m.\u001b[0m\u001b[0mscan_once\u001b[0m\u001b[1;33m(\u001b[0m\u001b[0ms\u001b[0m\u001b[1;33m,\u001b[0m \u001b[0midx\u001b[0m\u001b[1;33m)\u001b[0m\u001b[1;33m\u001b[0m\u001b[1;33m\u001b[0m\u001b[0m\n\u001b[0;32m    354\u001b[0m         \u001b[1;32mexcept\u001b[0m \u001b[0mStopIteration\u001b[0m \u001b[1;32mas\u001b[0m \u001b[0merr\u001b[0m\u001b[1;33m:\u001b[0m\u001b[1;33m\u001b[0m\u001b[1;33m\u001b[0m\u001b[0m\n\u001b[1;32m--> 355\u001b[1;33m             \u001b[1;32mraise\u001b[0m \u001b[0mJSONDecodeError\u001b[0m\u001b[1;33m(\u001b[0m\u001b[1;34m\"Expecting value\"\u001b[0m\u001b[1;33m,\u001b[0m \u001b[0ms\u001b[0m\u001b[1;33m,\u001b[0m \u001b[0merr\u001b[0m\u001b[1;33m.\u001b[0m\u001b[0mvalue\u001b[0m\u001b[1;33m)\u001b[0m \u001b[1;32mfrom\u001b[0m \u001b[1;32mNone\u001b[0m\u001b[1;33m\u001b[0m\u001b[1;33m\u001b[0m\u001b[0m\n\u001b[0m\u001b[0;32m    356\u001b[0m         \u001b[1;32mreturn\u001b[0m \u001b[0mobj\u001b[0m\u001b[1;33m,\u001b[0m \u001b[0mend\u001b[0m\u001b[1;33m\u001b[0m\u001b[1;33m\u001b[0m\u001b[0m\n",
      "\u001b[1;31mJSONDecodeError\u001b[0m: Expecting value: line 1 column 1 (char 0)"
     ]
    }
   ],
   "source": [
    "print(requests.get(\"http://127.0.0.1:5000/ecgs/patientrecords/list\").json())"
   ]
  },
  {
   "cell_type": "code",
   "execution_count": null,
   "metadata": {},
   "outputs": [],
   "source": [
    "print(requests.post(\"http://127.0.0.1:5000/ecgs/patientrecords/get/patient\", data=json.dumps({\"patientId\":\"P0001\"}), headers={ \"Content-Type\":\"application/json\"}).json())"
   ]
  },
  {
   "cell_type": "code",
   "execution_count": null,
   "metadata": {},
   "outputs": [],
   "source": [
    "print(requests.post(\"http://127.0.0.1:5000/ecgs/patientrecords/get/ecg\", data=json.dumps({\"ecgId\":\"E0002\"}), headers={ \"Content-Type\":\"application/json\"}).json())"
   ]
  },
  {
   "cell_type": "code",
   "execution_count": 33,
   "metadata": {
    "scrolled": true
   },
   "outputs": [
    {
     "name": "stdout",
     "output_type": "stream",
     "text": [
      "{'status': 'success'}\n"
     ]
    }
   ],
   "source": [
    "print(requests.post(\"http://127.0.0.1:5000/ecgs/patientrecords/delete\", data=json.dumps({\"ecgId\":\"E0002\"}), headers={ \"Content-Type\":\"application/json\"}).json())"
   ]
  },
  {
   "cell_type": "code",
   "execution_count": 34,
   "metadata": {},
   "outputs": [
    {
     "name": "stdout",
     "output_type": "stream",
     "text": [
      "{'status': 'failure'}\n"
     ]
    }
   ],
   "source": [
    "print(requests.post(\"http://127.0.0.1:5000/ecgs/patientrecords/setpatient\", data=json.dumps({\"ecgId\":\"E001\", \"patientId\":\"P0001\",\"myUsername\":\"Ok\"}), headers={ \"Content-Type\":\"application/json\"}).json())"
   ]
  },
  {
   "cell_type": "code",
   "execution_count": 35,
   "metadata": {},
   "outputs": [
    {
     "ename": "JSONDecodeError",
     "evalue": "Expecting value: line 1 column 1 (char 0)",
     "output_type": "error",
     "traceback": [
      "\u001b[1;31m---------------------------------------------------------------------------\u001b[0m",
      "\u001b[1;31mJSONDecodeError\u001b[0m                           Traceback (most recent call last)",
      "\u001b[1;32m<ipython-input-35-6bf0bf389d8f>\u001b[0m in \u001b[0;36m<module>\u001b[1;34m\u001b[0m\n\u001b[1;32m----> 1\u001b[1;33m \u001b[0mprint\u001b[0m\u001b[1;33m(\u001b[0m\u001b[0mrequests\u001b[0m\u001b[1;33m.\u001b[0m\u001b[0mpost\u001b[0m\u001b[1;33m(\u001b[0m\u001b[1;34m\"http://127.0.0.1:5000/ecgs/patientrecords/update\"\u001b[0m\u001b[1;33m,\u001b[0m \u001b[0mdata\u001b[0m\u001b[1;33m=\u001b[0m\u001b[0mjson\u001b[0m\u001b[1;33m.\u001b[0m\u001b[0mdumps\u001b[0m\u001b[1;33m(\u001b[0m\u001b[1;33m{\u001b[0m\u001b[1;34m\"ecgId\"\u001b[0m\u001b[1;33m:\u001b[0m\u001b[1;34m\"E001\"\u001b[0m\u001b[1;33m,\u001b[0m \u001b[1;34m\"bpm\"\u001b[0m\u001b[1;33m:\u001b[0m\u001b[1;36m30\u001b[0m\u001b[1;33m,\u001b[0m\u001b[1;34m\"featuresExtracted\"\u001b[0m\u001b[1;33m:\u001b[0m\u001b[1;33m{\u001b[0m\u001b[1;34m\"b\"\u001b[0m\u001b[1;33m:\u001b[0m\u001b[1;36m1\u001b[0m\u001b[1;33m}\u001b[0m\u001b[1;33m,\u001b[0m \u001b[1;34m\"machineDiagnosis\"\u001b[0m\u001b[1;33m:\u001b[0m\u001b[1;33m{\u001b[0m\u001b[1;34m\"ok\"\u001b[0m\u001b[1;33m:\u001b[0m\u001b[1;36m0.6\u001b[0m\u001b[1;33m}\u001b[0m\u001b[1;33m,\u001b[0m \u001b[1;34m\"humanDiagnosis\"\u001b[0m\u001b[1;33m:\u001b[0m\u001b[1;34m\"humanDiagnosis\"\u001b[0m\u001b[1;33m}\u001b[0m\u001b[1;33m)\u001b[0m\u001b[1;33m,\u001b[0m \u001b[0mheaders\u001b[0m\u001b[1;33m=\u001b[0m\u001b[1;33m{\u001b[0m \u001b[1;34m\"Content-Type\"\u001b[0m\u001b[1;33m:\u001b[0m\u001b[1;34m\"application/json\"\u001b[0m\u001b[1;33m}\u001b[0m\u001b[1;33m)\u001b[0m\u001b[1;33m.\u001b[0m\u001b[0mjson\u001b[0m\u001b[1;33m(\u001b[0m\u001b[1;33m)\u001b[0m\u001b[1;33m)\u001b[0m\u001b[1;33m\u001b[0m\u001b[1;33m\u001b[0m\u001b[0m\n\u001b[0m",
      "\u001b[1;32mc:\\users\\dell\\appdata\\local\\programs\\python\\python38\\lib\\site-packages\\requests\\models.py\u001b[0m in \u001b[0;36mjson\u001b[1;34m(self, **kwargs)\u001b[0m\n\u001b[0;32m    896\u001b[0m                     \u001b[1;31m# used.\u001b[0m\u001b[1;33m\u001b[0m\u001b[1;33m\u001b[0m\u001b[1;33m\u001b[0m\u001b[0m\n\u001b[0;32m    897\u001b[0m                     \u001b[1;32mpass\u001b[0m\u001b[1;33m\u001b[0m\u001b[1;33m\u001b[0m\u001b[0m\n\u001b[1;32m--> 898\u001b[1;33m         \u001b[1;32mreturn\u001b[0m \u001b[0mcomplexjson\u001b[0m\u001b[1;33m.\u001b[0m\u001b[0mloads\u001b[0m\u001b[1;33m(\u001b[0m\u001b[0mself\u001b[0m\u001b[1;33m.\u001b[0m\u001b[0mtext\u001b[0m\u001b[1;33m,\u001b[0m \u001b[1;33m**\u001b[0m\u001b[0mkwargs\u001b[0m\u001b[1;33m)\u001b[0m\u001b[1;33m\u001b[0m\u001b[1;33m\u001b[0m\u001b[0m\n\u001b[0m\u001b[0;32m    899\u001b[0m \u001b[1;33m\u001b[0m\u001b[0m\n\u001b[0;32m    900\u001b[0m     \u001b[1;33m@\u001b[0m\u001b[0mproperty\u001b[0m\u001b[1;33m\u001b[0m\u001b[1;33m\u001b[0m\u001b[0m\n",
      "\u001b[1;32mc:\\users\\dell\\appdata\\local\\programs\\python\\python38\\lib\\json\\__init__.py\u001b[0m in \u001b[0;36mloads\u001b[1;34m(s, cls, object_hook, parse_float, parse_int, parse_constant, object_pairs_hook, **kw)\u001b[0m\n\u001b[0;32m    355\u001b[0m             \u001b[0mparse_int\u001b[0m \u001b[1;32mis\u001b[0m \u001b[1;32mNone\u001b[0m \u001b[1;32mand\u001b[0m \u001b[0mparse_float\u001b[0m \u001b[1;32mis\u001b[0m \u001b[1;32mNone\u001b[0m \u001b[1;32mand\u001b[0m\u001b[1;33m\u001b[0m\u001b[1;33m\u001b[0m\u001b[0m\n\u001b[0;32m    356\u001b[0m             parse_constant is None and object_pairs_hook is None and not kw):\n\u001b[1;32m--> 357\u001b[1;33m         \u001b[1;32mreturn\u001b[0m \u001b[0m_default_decoder\u001b[0m\u001b[1;33m.\u001b[0m\u001b[0mdecode\u001b[0m\u001b[1;33m(\u001b[0m\u001b[0ms\u001b[0m\u001b[1;33m)\u001b[0m\u001b[1;33m\u001b[0m\u001b[1;33m\u001b[0m\u001b[0m\n\u001b[0m\u001b[0;32m    358\u001b[0m     \u001b[1;32mif\u001b[0m \u001b[0mcls\u001b[0m \u001b[1;32mis\u001b[0m \u001b[1;32mNone\u001b[0m\u001b[1;33m:\u001b[0m\u001b[1;33m\u001b[0m\u001b[1;33m\u001b[0m\u001b[0m\n\u001b[0;32m    359\u001b[0m         \u001b[0mcls\u001b[0m \u001b[1;33m=\u001b[0m \u001b[0mJSONDecoder\u001b[0m\u001b[1;33m\u001b[0m\u001b[1;33m\u001b[0m\u001b[0m\n",
      "\u001b[1;32mc:\\users\\dell\\appdata\\local\\programs\\python\\python38\\lib\\json\\decoder.py\u001b[0m in \u001b[0;36mdecode\u001b[1;34m(self, s, _w)\u001b[0m\n\u001b[0;32m    335\u001b[0m \u001b[1;33m\u001b[0m\u001b[0m\n\u001b[0;32m    336\u001b[0m         \"\"\"\n\u001b[1;32m--> 337\u001b[1;33m         \u001b[0mobj\u001b[0m\u001b[1;33m,\u001b[0m \u001b[0mend\u001b[0m \u001b[1;33m=\u001b[0m \u001b[0mself\u001b[0m\u001b[1;33m.\u001b[0m\u001b[0mraw_decode\u001b[0m\u001b[1;33m(\u001b[0m\u001b[0ms\u001b[0m\u001b[1;33m,\u001b[0m \u001b[0midx\u001b[0m\u001b[1;33m=\u001b[0m\u001b[0m_w\u001b[0m\u001b[1;33m(\u001b[0m\u001b[0ms\u001b[0m\u001b[1;33m,\u001b[0m \u001b[1;36m0\u001b[0m\u001b[1;33m)\u001b[0m\u001b[1;33m.\u001b[0m\u001b[0mend\u001b[0m\u001b[1;33m(\u001b[0m\u001b[1;33m)\u001b[0m\u001b[1;33m)\u001b[0m\u001b[1;33m\u001b[0m\u001b[1;33m\u001b[0m\u001b[0m\n\u001b[0m\u001b[0;32m    338\u001b[0m         \u001b[0mend\u001b[0m \u001b[1;33m=\u001b[0m \u001b[0m_w\u001b[0m\u001b[1;33m(\u001b[0m\u001b[0ms\u001b[0m\u001b[1;33m,\u001b[0m \u001b[0mend\u001b[0m\u001b[1;33m)\u001b[0m\u001b[1;33m.\u001b[0m\u001b[0mend\u001b[0m\u001b[1;33m(\u001b[0m\u001b[1;33m)\u001b[0m\u001b[1;33m\u001b[0m\u001b[1;33m\u001b[0m\u001b[0m\n\u001b[0;32m    339\u001b[0m         \u001b[1;32mif\u001b[0m \u001b[0mend\u001b[0m \u001b[1;33m!=\u001b[0m \u001b[0mlen\u001b[0m\u001b[1;33m(\u001b[0m\u001b[0ms\u001b[0m\u001b[1;33m)\u001b[0m\u001b[1;33m:\u001b[0m\u001b[1;33m\u001b[0m\u001b[1;33m\u001b[0m\u001b[0m\n",
      "\u001b[1;32mc:\\users\\dell\\appdata\\local\\programs\\python\\python38\\lib\\json\\decoder.py\u001b[0m in \u001b[0;36mraw_decode\u001b[1;34m(self, s, idx)\u001b[0m\n\u001b[0;32m    353\u001b[0m             \u001b[0mobj\u001b[0m\u001b[1;33m,\u001b[0m \u001b[0mend\u001b[0m \u001b[1;33m=\u001b[0m \u001b[0mself\u001b[0m\u001b[1;33m.\u001b[0m\u001b[0mscan_once\u001b[0m\u001b[1;33m(\u001b[0m\u001b[0ms\u001b[0m\u001b[1;33m,\u001b[0m \u001b[0midx\u001b[0m\u001b[1;33m)\u001b[0m\u001b[1;33m\u001b[0m\u001b[1;33m\u001b[0m\u001b[0m\n\u001b[0;32m    354\u001b[0m         \u001b[1;32mexcept\u001b[0m \u001b[0mStopIteration\u001b[0m \u001b[1;32mas\u001b[0m \u001b[0merr\u001b[0m\u001b[1;33m:\u001b[0m\u001b[1;33m\u001b[0m\u001b[1;33m\u001b[0m\u001b[0m\n\u001b[1;32m--> 355\u001b[1;33m             \u001b[1;32mraise\u001b[0m \u001b[0mJSONDecodeError\u001b[0m\u001b[1;33m(\u001b[0m\u001b[1;34m\"Expecting value\"\u001b[0m\u001b[1;33m,\u001b[0m \u001b[0ms\u001b[0m\u001b[1;33m,\u001b[0m \u001b[0merr\u001b[0m\u001b[1;33m.\u001b[0m\u001b[0mvalue\u001b[0m\u001b[1;33m)\u001b[0m \u001b[1;32mfrom\u001b[0m \u001b[1;32mNone\u001b[0m\u001b[1;33m\u001b[0m\u001b[1;33m\u001b[0m\u001b[0m\n\u001b[0m\u001b[0;32m    356\u001b[0m         \u001b[1;32mreturn\u001b[0m \u001b[0mobj\u001b[0m\u001b[1;33m,\u001b[0m \u001b[0mend\u001b[0m\u001b[1;33m\u001b[0m\u001b[1;33m\u001b[0m\u001b[0m\n",
      "\u001b[1;31mJSONDecodeError\u001b[0m: Expecting value: line 1 column 1 (char 0)"
     ]
    }
   ],
   "source": [
    "print(requests.post(\"http://127.0.0.1:5000/ecgs/patientrecords/update\", data=json.dumps({\"ecgId\":\"E001\", \"bpm\":30,\"featuresExtracted\":{\"b\":1}, \"machineDiagnosis\":{\"ok\":0.6}, \"humanDiagnosis\":\"humanDiagnosis\"}), headers={ \"Content-Type\":\"application/json\"}).json())"
   ]
  },
  {
   "cell_type": "code",
   "execution_count": 37,
   "metadata": {},
   "outputs": [
    {
     "ename": "JSONDecodeError",
     "evalue": "Expecting value: line 1 column 1 (char 0)",
     "output_type": "error",
     "traceback": [
      "\u001b[1;31m---------------------------------------------------------------------------\u001b[0m",
      "\u001b[1;31mJSONDecodeError\u001b[0m                           Traceback (most recent call last)",
      "\u001b[1;32m<ipython-input-37-8f5717f20ef4>\u001b[0m in \u001b[0;36m<module>\u001b[1;34m\u001b[0m\n\u001b[1;32m----> 1\u001b[1;33m \u001b[0mprint\u001b[0m\u001b[1;33m(\u001b[0m\u001b[0mrequests\u001b[0m\u001b[1;33m.\u001b[0m\u001b[0mget\u001b[0m\u001b[1;33m(\u001b[0m\u001b[1;34m\"http://127.0.0.1:5000/empty\"\u001b[0m\u001b[1;33m)\u001b[0m\u001b[1;33m.\u001b[0m\u001b[0mjson\u001b[0m\u001b[1;33m(\u001b[0m\u001b[1;33m)\u001b[0m\u001b[1;33m)\u001b[0m\u001b[1;33m\u001b[0m\u001b[1;33m\u001b[0m\u001b[0m\n\u001b[0m",
      "\u001b[1;32mc:\\users\\dell\\appdata\\local\\programs\\python\\python38\\lib\\site-packages\\requests\\models.py\u001b[0m in \u001b[0;36mjson\u001b[1;34m(self, **kwargs)\u001b[0m\n\u001b[0;32m    896\u001b[0m                     \u001b[1;31m# used.\u001b[0m\u001b[1;33m\u001b[0m\u001b[1;33m\u001b[0m\u001b[1;33m\u001b[0m\u001b[0m\n\u001b[0;32m    897\u001b[0m                     \u001b[1;32mpass\u001b[0m\u001b[1;33m\u001b[0m\u001b[1;33m\u001b[0m\u001b[0m\n\u001b[1;32m--> 898\u001b[1;33m         \u001b[1;32mreturn\u001b[0m \u001b[0mcomplexjson\u001b[0m\u001b[1;33m.\u001b[0m\u001b[0mloads\u001b[0m\u001b[1;33m(\u001b[0m\u001b[0mself\u001b[0m\u001b[1;33m.\u001b[0m\u001b[0mtext\u001b[0m\u001b[1;33m,\u001b[0m \u001b[1;33m**\u001b[0m\u001b[0mkwargs\u001b[0m\u001b[1;33m)\u001b[0m\u001b[1;33m\u001b[0m\u001b[1;33m\u001b[0m\u001b[0m\n\u001b[0m\u001b[0;32m    899\u001b[0m \u001b[1;33m\u001b[0m\u001b[0m\n\u001b[0;32m    900\u001b[0m     \u001b[1;33m@\u001b[0m\u001b[0mproperty\u001b[0m\u001b[1;33m\u001b[0m\u001b[1;33m\u001b[0m\u001b[0m\n",
      "\u001b[1;32mc:\\users\\dell\\appdata\\local\\programs\\python\\python38\\lib\\json\\__init__.py\u001b[0m in \u001b[0;36mloads\u001b[1;34m(s, cls, object_hook, parse_float, parse_int, parse_constant, object_pairs_hook, **kw)\u001b[0m\n\u001b[0;32m    355\u001b[0m             \u001b[0mparse_int\u001b[0m \u001b[1;32mis\u001b[0m \u001b[1;32mNone\u001b[0m \u001b[1;32mand\u001b[0m \u001b[0mparse_float\u001b[0m \u001b[1;32mis\u001b[0m \u001b[1;32mNone\u001b[0m \u001b[1;32mand\u001b[0m\u001b[1;33m\u001b[0m\u001b[1;33m\u001b[0m\u001b[0m\n\u001b[0;32m    356\u001b[0m             parse_constant is None and object_pairs_hook is None and not kw):\n\u001b[1;32m--> 357\u001b[1;33m         \u001b[1;32mreturn\u001b[0m \u001b[0m_default_decoder\u001b[0m\u001b[1;33m.\u001b[0m\u001b[0mdecode\u001b[0m\u001b[1;33m(\u001b[0m\u001b[0ms\u001b[0m\u001b[1;33m)\u001b[0m\u001b[1;33m\u001b[0m\u001b[1;33m\u001b[0m\u001b[0m\n\u001b[0m\u001b[0;32m    358\u001b[0m     \u001b[1;32mif\u001b[0m \u001b[0mcls\u001b[0m \u001b[1;32mis\u001b[0m \u001b[1;32mNone\u001b[0m\u001b[1;33m:\u001b[0m\u001b[1;33m\u001b[0m\u001b[1;33m\u001b[0m\u001b[0m\n\u001b[0;32m    359\u001b[0m         \u001b[0mcls\u001b[0m \u001b[1;33m=\u001b[0m \u001b[0mJSONDecoder\u001b[0m\u001b[1;33m\u001b[0m\u001b[1;33m\u001b[0m\u001b[0m\n",
      "\u001b[1;32mc:\\users\\dell\\appdata\\local\\programs\\python\\python38\\lib\\json\\decoder.py\u001b[0m in \u001b[0;36mdecode\u001b[1;34m(self, s, _w)\u001b[0m\n\u001b[0;32m    335\u001b[0m \u001b[1;33m\u001b[0m\u001b[0m\n\u001b[0;32m    336\u001b[0m         \"\"\"\n\u001b[1;32m--> 337\u001b[1;33m         \u001b[0mobj\u001b[0m\u001b[1;33m,\u001b[0m \u001b[0mend\u001b[0m \u001b[1;33m=\u001b[0m \u001b[0mself\u001b[0m\u001b[1;33m.\u001b[0m\u001b[0mraw_decode\u001b[0m\u001b[1;33m(\u001b[0m\u001b[0ms\u001b[0m\u001b[1;33m,\u001b[0m \u001b[0midx\u001b[0m\u001b[1;33m=\u001b[0m\u001b[0m_w\u001b[0m\u001b[1;33m(\u001b[0m\u001b[0ms\u001b[0m\u001b[1;33m,\u001b[0m \u001b[1;36m0\u001b[0m\u001b[1;33m)\u001b[0m\u001b[1;33m.\u001b[0m\u001b[0mend\u001b[0m\u001b[1;33m(\u001b[0m\u001b[1;33m)\u001b[0m\u001b[1;33m)\u001b[0m\u001b[1;33m\u001b[0m\u001b[1;33m\u001b[0m\u001b[0m\n\u001b[0m\u001b[0;32m    338\u001b[0m         \u001b[0mend\u001b[0m \u001b[1;33m=\u001b[0m \u001b[0m_w\u001b[0m\u001b[1;33m(\u001b[0m\u001b[0ms\u001b[0m\u001b[1;33m,\u001b[0m \u001b[0mend\u001b[0m\u001b[1;33m)\u001b[0m\u001b[1;33m.\u001b[0m\u001b[0mend\u001b[0m\u001b[1;33m(\u001b[0m\u001b[1;33m)\u001b[0m\u001b[1;33m\u001b[0m\u001b[1;33m\u001b[0m\u001b[0m\n\u001b[0;32m    339\u001b[0m         \u001b[1;32mif\u001b[0m \u001b[0mend\u001b[0m \u001b[1;33m!=\u001b[0m \u001b[0mlen\u001b[0m\u001b[1;33m(\u001b[0m\u001b[0ms\u001b[0m\u001b[1;33m)\u001b[0m\u001b[1;33m:\u001b[0m\u001b[1;33m\u001b[0m\u001b[1;33m\u001b[0m\u001b[0m\n",
      "\u001b[1;32mc:\\users\\dell\\appdata\\local\\programs\\python\\python38\\lib\\json\\decoder.py\u001b[0m in \u001b[0;36mraw_decode\u001b[1;34m(self, s, idx)\u001b[0m\n\u001b[0;32m    353\u001b[0m             \u001b[0mobj\u001b[0m\u001b[1;33m,\u001b[0m \u001b[0mend\u001b[0m \u001b[1;33m=\u001b[0m \u001b[0mself\u001b[0m\u001b[1;33m.\u001b[0m\u001b[0mscan_once\u001b[0m\u001b[1;33m(\u001b[0m\u001b[0ms\u001b[0m\u001b[1;33m,\u001b[0m \u001b[0midx\u001b[0m\u001b[1;33m)\u001b[0m\u001b[1;33m\u001b[0m\u001b[1;33m\u001b[0m\u001b[0m\n\u001b[0;32m    354\u001b[0m         \u001b[1;32mexcept\u001b[0m \u001b[0mStopIteration\u001b[0m \u001b[1;32mas\u001b[0m \u001b[0merr\u001b[0m\u001b[1;33m:\u001b[0m\u001b[1;33m\u001b[0m\u001b[1;33m\u001b[0m\u001b[0m\n\u001b[1;32m--> 355\u001b[1;33m             \u001b[1;32mraise\u001b[0m \u001b[0mJSONDecodeError\u001b[0m\u001b[1;33m(\u001b[0m\u001b[1;34m\"Expecting value\"\u001b[0m\u001b[1;33m,\u001b[0m \u001b[0ms\u001b[0m\u001b[1;33m,\u001b[0m \u001b[0merr\u001b[0m\u001b[1;33m.\u001b[0m\u001b[0mvalue\u001b[0m\u001b[1;33m)\u001b[0m \u001b[1;32mfrom\u001b[0m \u001b[1;32mNone\u001b[0m\u001b[1;33m\u001b[0m\u001b[1;33m\u001b[0m\u001b[0m\n\u001b[0m\u001b[0;32m    356\u001b[0m         \u001b[1;32mreturn\u001b[0m \u001b[0mobj\u001b[0m\u001b[1;33m,\u001b[0m \u001b[0mend\u001b[0m\u001b[1;33m\u001b[0m\u001b[1;33m\u001b[0m\u001b[0m\n",
      "\u001b[1;31mJSONDecodeError\u001b[0m: Expecting value: line 1 column 1 (char 0)"
     ]
    }
   ],
   "source": [
    "print(requests.get(\"http://127.0.0.1:5000/empty\").json())"
   ]
  },
  {
   "cell_type": "code",
   "execution_count": 35,
   "metadata": {},
   "outputs": [
    {
     "ename": "JSONDecodeError",
     "evalue": "Expecting value: line 1 column 1 (char 0)",
     "output_type": "error",
     "traceback": [
      "\u001b[1;31m---------------------------------------------------------------------------\u001b[0m",
      "\u001b[1;31mJSONDecodeError\u001b[0m                           Traceback (most recent call last)",
      "\u001b[1;32m<ipython-input-35-aadddb9b993d>\u001b[0m in \u001b[0;36m<module>\u001b[1;34m\u001b[0m\n\u001b[0;32m      2\u001b[0m \u001b[0mdata\u001b[0m \u001b[1;33m=\u001b[0m\u001b[1;33m[\u001b[0m\u001b[1;33m-\u001b[0m\u001b[1;36m0.007540665222861067\u001b[0m\u001b[1;33m,\u001b[0m \u001b[1;33m-\u001b[0m\u001b[1;36m0.00953565424846012\u001b[0m\u001b[1;33m,\u001b[0m \u001b[1;33m-\u001b[0m\u001b[1;36m0.011761598114642419\u001b[0m\u001b[1;33m,\u001b[0m \u001b[1;33m-\u001b[0m\u001b[1;36m0.01421875091823774\u001b[0m\u001b[1;33m,\u001b[0m \u001b[1;33m-\u001b[0m\u001b[1;36m0.01690392347519759\u001b[0m\u001b[1;33m,\u001b[0m \u001b[1;33m-\u001b[0m\u001b[1;36m0.01981030816843552\u001b[0m\u001b[1;33m,\u001b[0m \u001b[1;33m-\u001b[0m\u001b[1;36m0.02292720024730932\u001b[0m\u001b[1;33m,\u001b[0m \u001b[1;33m-\u001b[0m\u001b[1;36m0.0255381092358443\u001b[0m\u001b[1;33m,\u001b[0m \u001b[1;33m-\u001b[0m\u001b[1;36m0.028348205009351517\u001b[0m\u001b[1;33m,\u001b[0m \u001b[1;33m-\u001b[0m\u001b[1;36m0.031322745773279606\u001b[0m\u001b[1;33m,\u001b[0m \u001b[1;33m-\u001b[0m\u001b[1;36m0.034419599930427015\u001b[0m\u001b[1;33m,\u001b[0m \u001b[1;33m-\u001b[0m\u001b[1;36m0.03759001647882926\u001b[0m\u001b[1;33m,\u001b[0m \u001b[1;33m-\u001b[0m\u001b[1;36m0.04077965615281236\u001b[0m\u001b[1;33m,\u001b[0m \u001b[1;33m-\u001b[0m\u001b[1;36m0.04392986640999232\u001b[0m\u001b[1;33m,\u001b[0m \u001b[1;33m-\u001b[0m\u001b[1;36m0.046979174694730105\u001b[0m\u001b[1;33m,\u001b[0m \u001b[1;33m-\u001b[0m\u001b[1;36m0.04986496608833598\u001b[0m\u001b[1;33m,\u001b[0m \u001b[1;33m-\u001b[0m\u001b[1;36m0.05252530376674166\u001b[0m\u001b[1;33m,\u001b[0m \u001b[1;33m-\u001b[0m\u001b[1;36m0.05490084389960266\u001b[0m\u001b[1;33m,\u001b[0m \u001b[1;33m-\u001b[0m\u001b[1;36m0.056936790997871925\u001b[0m\u001b[1;33m,\u001b[0m \u001b[1;33m-\u001b[0m\u001b[1;36m0.05858483548296104\u001b[0m\u001b[1;33m,\u001b[0m \u001b[1;33m-\u001b[0m\u001b[1;36m0.05980501261064398\u001b[0m\u001b[1;33m,\u001b[0m \u001b[1;33m-\u001b[0m\u001b[1;36m0.06056742099792385\u001b[0m\u001b[1;33m,\u001b[0m \u001b[1;33m-\u001b[0m\u001b[1;36m0.06085373998549093\u001b[0m\u001b[1;33m,\u001b[0m \u001b[1;33m-\u001b[0m\u001b[1;36m0.06065848798403949\u001b[0m\u001b[1;33m,\u001b[0m \u001b[1;33m-\u001b[0m\u001b[1;36m0.059989968804697716\u001b[0m\u001b[1;33m,\u001b[0m \u001b[1;33m-\u001b[0m\u001b[1;36m0.05887085970773444\u001b[0m\u001b[1;33m,\u001b[0m \u001b[1;33m-\u001b[0m\u001b[1;36m0.057338403404499305\u001b[0m\u001b[1;33m,\u001b[0m \u001b[1;33m-\u001b[0m\u001b[1;36m0.055444176340322206\u001b[0m\u001b[1;33m,\u001b[0m \u001b[1;33m-\u001b[0m\u001b[1;36m0.05325341703869733\u001b[0m\u001b[1;33m,\u001b[0m \u001b[1;33m-\u001b[0m\u001b[1;36m0.05084391081460661\u001b[0m\u001b[1;33m,\u001b[0m \u001b[1;33m-\u001b[0m\u001b[1;36m0.048304440435973504\u001b[0m\u001b[1;33m,\u001b[0m \u001b[1;33m-\u001b[0m\u001b[1;36m0.045732825957247134\u001b[0m\u001b[1;33m,\u001b[0m \u001b[1;33m-\u001b[0m\u001b[1;36m0.04323359056942343\u001b[0m\u001b[1;33m,\u001b[0m \u001b[1;33m-\u001b[0m\u001b[1;36m0.04091530248986164\u001b[0m\u001b[1;33m,\u001b[0m \u001b[1;33m-\u001b[0m\u001b[1;36m0.03888765523043619\u001b[0m\u001b[1;33m,\u001b[0m \u001b[1;33m-\u001b[0m\u001b[1;36m0.03725835961781714\u001b[0m\u001b[1;33m,\u001b[0m \u001b[1;33m-\u001b[0m\u001b[1;36m0.036129930298487996\u001b[0m\u001b[1;33m,\u001b[0m \u001b[1;33m-\u001b[0m\u001b[1;36m0.035596456779500206\u001b[0m\u001b[1;33m,\u001b[0m \u001b[1;33m-\u001b[0m\u001b[1;36m0.03574045401501742\u001b[0m\u001b[1;33m,\u001b[0m \u001b[1;33m-\u001b[0m\u001b[1;36m0.03662988988633244\u001b[0m\u001b[1;33m,\u001b[0m \u001b[1;33m-\u001b[0m\u001b[1;36m0.038315486444512256\u001b[0m\u001b[1;33m,\u001b[0m \u001b[1;33m-\u001b[0m\u001b[1;36m0.04082838837171607\u001b[0m\u001b[1;33m,\u001b[0m \u001b[1;33m-\u001b[0m\u001b[1;36m0.04417828573444453\u001b[0m\u001b[1;33m,\u001b[0m \u001b[1;33m-\u001b[0m\u001b[1;36m0.048352068802561494\u001b[0m\u001b[1;33m,\u001b[0m \u001b[1;33m-\u001b[0m\u001b[1;36m0.053313080635398975\u001b[0m\u001b[1;33m,\u001b[0m \u001b[1;33m-\u001b[0m\u001b[1;36m0.05900101852430045\u001b[0m\u001b[1;33m,\u001b[0m \u001b[1;33m-\u001b[0m\u001b[1;36m0.06533251855037377\u001b[0m\u001b[1;33m,\u001b[0m \u001b[1;33m-\u001b[0m\u001b[1;36m0.07220243886909182\u001b[0m\u001b[1;33m,\u001b[0m \u001b[1;33m-\u001b[0m\u001b[1;36m0.07948583734450482\u001b[0m\u001b[1;33m,\u001b[0m \u001b[1;33m-\u001b[0m\u001b[1;36m0.08704061836162603\u001b[0m\u001b[1;33m,\u001b[0m \u001b[1;33m-\u001b[0m\u001b[1;36m0.09471080263057136\u001b[0m\u001b[1;33m,\u001b[0m \u001b[1;33m-\u001b[0m\u001b[1;36m0.10233035317744557\u001b[0m\u001b[1;33m,\u001b[0m \u001b[1;33m-\u001b[0m\u001b[1;36m0.10972747112740729\u001b[0m\u001b[1;33m,\u001b[0m \u001b[1;33m-\u001b[0m\u001b[1;36m0.1167292569545434\u001b[0m\u001b[1;33m,\u001b[0m \u001b[1;33m-\u001b[0m\u001b[1;36m0.12316661720891371\u001b[0m\u001b[1;33m,\u001b[0m \u001b[1;33m-\u001b[0m\u001b[1;36m0.1288792838999893\u001b[0m\u001b[1;33m,\u001b[0m \u001b[1;33m-\u001b[0m\u001b[1;36m0.13372080422437796\u001b[0m\u001b[1;33m,\u001b[0m \u001b[1;33m-\u001b[0m\u001b[1;36m0.1375633526031877\u001b[0m\u001b[1;33m,\u001b[0m \u001b[1;33m-\u001b[0m\u001b[1;36m0.14030221537578338\u001b[0m\u001b[1;33m,\u001b[0m \u001b[1;33m-\u001b[0m\u001b[1;36m0.1418598012093755\u001b[0m\u001b[1;33m,\u001b[0m \u001b[1;33m-\u001b[0m\u001b[1;36m0.14218903743606381\u001b[0m\u001b[1;33m,\u001b[0m \u001b[1;33m-\u001b[0m\u001b[1;36m0.14127602410153534\u001b[0m\u001b[1;33m,\u001b[0m \u001b[1;33m-\u001b[0m\u001b[1;36m0.13914183335150662\u001b[0m\u001b[1;33m,\u001b[0m \u001b[1;33m-\u001b[0m\u001b[1;36m0.13584336160923172\u001b[0m\u001b[1;33m,\u001b[0m \u001b[1;33m-\u001b[0m\u001b[1;36m0.13147316539620213\u001b[0m\u001b[1;33m,\u001b[0m \u001b[1;33m-\u001b[0m\u001b[1;36m0.12615823808207452\u001b[0m\u001b[1;33m,\u001b[0m \u001b[1;33m-\u001b[0m\u001b[1;36m0.12005771367081076\u001b[0m\u001b[1;33m,\u001b[0m \u001b[1;33m-\u001b[0m\u001b[1;36m0.11335951419320955\u001b[0m\u001b[1;33m,\u001b[0m \u001b[1;33m-\u001b[0m\u001b[1;36m0.10627598855831805\u001b[0m\u001b[1;33m,\u001b[0m \u001b[1;33m-\u001b[0m\u001b[1;36m0.09903862193762421\u001b[0m\u001b[1;33m,\u001b[0m \u001b[1;33m-\u001b[0m\u001b[1;36m0.09189192500352372\u001b[0m\u001b[1;33m,\u001b[0m \u001b[1;33m-\u001b[0m\u001b[1;36m0.08508664069741757\u001b[0m\u001b[1;33m,\u001b[0m \u001b[1;33m-\u001b[0m\u001b[1;36m0.07887243176309296\u001b[0m\u001b[1;33m,\u001b[0m \u001b[1;33m-\u001b[0m\u001b[1;36m0.07349023419552435\u001b[0m\u001b[1;33m,\u001b[0m \u001b[1;33m-\u001b[0m\u001b[1;36m0.06916447924632436\u001b[0m\u001b[1;33m,\u001b[0m \u001b[1;33m-\u001b[0m\u001b[1;36m0.06609539901770974\u001b[0m\u001b[1;33m,\u001b[0m \u001b[1;33m-\u001b[0m\u001b[1;36m0.06445163741422585\u001b[0m\u001b[1;33m,\u001b[0m \u001b[1;33m-\u001b[0m\u001b[1;36m0.06436338889793897\u001b[0m\u001b[1;33m,\u001b[0m \u001b[1;33m-\u001b[0m\u001b[1;36m0.06591628186310308\u001b[0m\u001b[1;33m,\u001b[0m \u001b[1;33m-\u001b[0m\u001b[1;36m0.06914621144056649\u001b[0m\u001b[1;33m,\u001b[0m \u001b[1;33m-\u001b[0m\u001b[1;36m0.07403530827407402\u001b[0m\u001b[1;33m,\u001b[0m \u001b[1;33m-\u001b[0m\u001b[1;36m0.08050920558029369\u001b[0m\u001b[1;33m,\u001b[0m \u001b[1;33m-\u001b[0m\u001b[1;36m0.08843573709588852\u001b[0m\u001b[1;33m,\u001b[0m \u001b[1;33m-\u001b[0m\u001b[1;36m0.09762516398801808\u001b[0m\u001b[1;33m,\u001b[0m \u001b[1;33m-\u001b[0m\u001b[1;36m0.1078319902809995\u001b[0m\u001b[1;33m,\u001b[0m \u001b[1;33m-\u001b[0m\u001b[1;36m0.11875838479611849\u001b[0m\u001b[1;33m,\u001b[0m \u001b[1;33m-\u001b[0m\u001b[1;36m0.13005918409734554\u001b[0m\u001b[1;33m,\u001b[0m \u001b[1;33m-\u001b[0m\u001b[1;36m0.1413484066572504\u001b[0m\u001b[1;33m,\u001b[0m \u001b[1;33m-\u001b[0m\u001b[1;36m0.15220716463778206\u001b[0m\u001b[1;33m,\u001b[0m \u001b[1;33m-\u001b[0m\u001b[1;36m0.1621928175770331\u001b[0m\u001b[1;33m,\u001b[0m \u001b[1;33m-\u001b[0m\u001b[1;36m0.17084917313066947\u001b[0m\u001b[1;33m,\u001b[0m \u001b[1;33m-\u001b[0m\u001b[1;36m0.17771750503114386\u001b[0m\u001b[1;33m,\u001b[0m \u001b[1;33m-\u001b[0m\u001b[1;36m0.18234812870893571\u001b[0m\u001b[1;33m,\u001b[0m \u001b[1;33m-\u001b[0m\u001b[1;36m0.18431225155665618\u001b[0m\u001b[1;33m,\u001b[0m \u001b[1;33m-\u001b[0m\u001b[1;36m0.18321379844422273\u001b[0m\u001b[1;33m,\u001b[0m \u001b[1;33m-\u001b[0m\u001b[1;36m0.17870090446459783\u001b[0m\u001b[1;33m,\u001b[0m \u001b[1;33m-\u001b[0m\u001b[1;36m0.1704767664518454\u001b[0m\u001b[1;33m,\u001b[0m \u001b[1;33m-\u001b[0m\u001b[1;36m0.15830955278906933\u001b[0m\u001b[1;33m,\u001b[0m \u001b[1;33m-\u001b[0m\u001b[1;36m0.14204108739922905\u001b[0m\u001b[1;33m,\u001b[0m \u001b[1;33m-\u001b[0m\u001b[1;36m0.12159404833122658\u001b[0m\u001b[1;33m,\u001b[0m \u001b[1;33m-\u001b[0m\u001b[1;36m0.09697745352158926\u001b[0m\u001b[1;33m,\u001b[0m \u001b[1;33m-\u001b[0m\u001b[1;36m0.06829024540257811\u001b[0m\u001b[1;33m,\u001b[0m \u001b[1;33m-\u001b[0m\u001b[1;36m0.035722831100532204\u001b[0m\u001b[1;33m,\u001b[0m \u001b[1;36m0.0004435151072747258\u001b[0m\u001b[1;33m,\u001b[0m \u001b[1;36m0.03983942692545708\u001b[0m\u001b[1;33m,\u001b[0m \u001b[1;36m0.0820123829874751\u001b[0m\u001b[1;33m,\u001b[0m \u001b[1;36m0.1264337335831178\u001b[0m\u001b[1;33m,\u001b[0m \u001b[1;36m0.17250768979053516\u001b[0m\u001b[1;33m,\u001b[0m \u001b[1;36m0.21958209475945212\u001b[0m\u001b[1;33m,\u001b[0m \u001b[1;36m0.266960747982635\u001b[0m\u001b[1;33m,\u001b[0m \u001b[1;36m0.313917009862389\u001b[0m\u001b[1;33m,\u001b[0m \u001b[1;36m0.3597083770049693\u001b[0m\u001b[1;33m,\u001b[0m \u001b[1;36m0.40359168956168584\u001b[0m\u001b[1;33m,\u001b[0m \u001b[1;36m0.44483861147610226\u001b[0m\u001b[1;33m,\u001b[0m \u001b[1;36m0.4827510133498297\u001b[0m\u001b[1;33m,\u001b[0m \u001b[1;36m0.5166758862035721\u001b[0m\u001b[1;33m,\u001b[0m \u001b[1;36m0.5460194228105265\u001b[0m\u001b[1;33m,\u001b[0m \u001b[1;36m0.5702599213617329\u001b[0m\u001b[1;33m,\u001b[0m \u001b[1;36m0.5889591935561432\u001b[0m\u001b[1;33m,\u001b[0m \u001b[1;36m0.601772195094507\u001b[0m\u001b[1;33m,\u001b[0m \u001b[1;36m0.60845464005073\u001b[0m\u001b[1;33m,\u001b[0m \u001b[1;36m0.6088684105318226\u001b[0m\u001b[1;33m,\u001b[0m \u001b[1;36m0.6029846280652658\u001b[0m\u001b[1;33m,\u001b[0m \u001b[1;36m0.5908843117703444\u001b[0m\u001b[1;33m,\u001b[0m \u001b[1;36m0.5727566089734335\u001b[0m\u001b[1;33m,\u001b[0m \u001b[1;36m0.5488946448554239\u001b[0m\u001b[1;33m,\u001b[0m \u001b[1;36m0.519689097303622\u001b[0m\u001b[1;33m,\u001b[0m \u001b[1;36m0.4856196597529318\u001b[0m\u001b[1;33m,\u001b[0m \u001b[1;36m0.4472446069033594\u001b[0m\u001b[1;33m,\u001b[0m \u001b[1;36m0.4051887243882119\u001b[0m\u001b[1;33m,\u001b[0m \u001b[1;36m0.36012990250975613\u001b[0m\u001b[1;33m,\u001b[0m \u001b[1;36m0.3127847250363336\u001b[0m\u001b[1;33m,\u001b[0m \u001b[1;36m0.26389340598522765\u001b[0m\u001b[1;33m,\u001b[0m \u001b[1;36m0.21420443977675563\u001b[0m\u001b[1;33m,\u001b[0m \u001b[1;36m0.16445933288776793\u001b[0m\u001b[1;33m,\u001b[0m \u001b[1;36m0.1153777781851515\u001b[0m\u001b[1;33m,\u001b[0m \u001b[1;36m0.0676436167841947\u001b[0m\u001b[1;33m,\u001b[0m \u001b[1;36m0.021891907116903527\u001b[0m\u001b[1;33m,\u001b[0m \u001b[1;33m-\u001b[0m\u001b[1;36m0.02130261228189743\u001b[0m\u001b[1;33m,\u001b[0m \u001b[1;33m-\u001b[0m\u001b[1;36m0.061435419935425624\u001b[0m\u001b[1;33m,\u001b[0m \u001b[1;33m-\u001b[0m\u001b[1;36m0.09808026816039972\u001b[0m\u001b[1;33m,\u001b[0m \u001b[1;33m-\u001b[0m\u001b[1;36m0.13089524940798394\u001b[0m\u001b[1;33m,\u001b[0m \u001b[1;33m-\u001b[0m\u001b[1;36m0.15962677563141675\u001b[0m\u001b[1;33m,\u001b[0m \u001b[1;33m-\u001b[0m\u001b[1;36m0.18411142896632568\u001b[0m\u001b[1;33m,\u001b[0m \u001b[1;33m-\u001b[0m\u001b[1;36m0.2042756968222316\u001b[0m\u001b[1;33m,\u001b[0m \u001b[1;33m-\u001b[0m\u001b[1;36m0.22013365774761762\u001b[0m\u001b[1;33m,\u001b[0m \u001b[1;33m-\u001b[0m\u001b[1;36m0.23178273472323316\u001b[0m\u001b[1;33m,\u001b[0m \u001b[1;33m-\u001b[0m\u001b[1;36m0.23939767854934862\u001b[0m\u001b[1;33m,\u001b[0m \u001b[1;33m-\u001b[0m\u001b[1;36m0.24322298456175356\u001b[0m\u001b[1;33m,\u001b[0m \u001b[1;33m-\u001b[0m\u001b[1;36m0.24356398005713317\u001b[0m\u001b[1;33m,\u001b[0m \u001b[1;33m-\u001b[0m\u001b[1;36m0.24077684675371774\u001b[0m\u001b[1;33m,\u001b[0m \u001b[1;33m-\u001b[0m\u001b[1;36m0.23525786180220465\u001b[0m\u001b[1;33m,\u001b[0m \u001b[1;33m-\u001b[0m\u001b[1;36m0.22743215197193864\u001b[0m\u001b[1;33m,\u001b[0m \u001b[1;33m-\u001b[0m\u001b[1;36m0.21774225858152055\u001b[0m\u001b[1;33m,\u001b[0m \u001b[1;33m-\u001b[0m\u001b[1;36m0.20663680566754133\u001b[0m\u001b[1;33m,\u001b[0m \u001b[1;33m-\u001b[0m\u001b[1;36m0.1945595511587454\u001b[0m\u001b[1;33m,\u001b[0m \u001b[1;33m-\u001b[0m\u001b[1;36m0.18193908102032244\u001b[0m\u001b[1;33m,\u001b[0m \u001b[1;33m-\u001b[0m\u001b[1;36m0.1691793802126624\u001b[0m\u001b[1;33m,\u001b[0m \u001b[1;33m-\u001b[0m\u001b[1;36m0.15665148278588728\u001b[0m\u001b[1;33m,\u001b[0m \u001b[1;33m-\u001b[0m\u001b[1;36m0.1446863675465666\u001b[0m\u001b[1;33m,\u001b[0m \u001b[1;33m-\u001b[0m\u001b[1;36m0.13356922661888979\u001b[0m\u001b[1;33m,\u001b[0m \u001b[1;33m-\u001b[0m\u001b[1;36m0.12353519306818524\u001b[0m\u001b[1;33m,\u001b[0m \u001b[1;33m-\u001b[0m\u001b[1;36m0.11476657176919394\u001b[0m\u001b[1;33m,\u001b[0m \u001b[1;33m-\u001b[0m\u001b[1;36m0.10739157607857629\u001b[0m\u001b[1;33m,\u001b[0m \u001b[1;33m-\u001b[0m\u001b[1;36m0.10148453275478686\u001b[0m\u001b[1;33m,\u001b[0m \u001b[1;33m-\u001b[0m\u001b[1;36m0.09706748002150802\u001b[0m\u001b[1;33m,\u001b[0m \u001b[1;33m-\u001b[0m\u001b[1;36m0.09411304964670557\u001b[0m\u001b[1;33m,\u001b[0m \u001b[1;33m-\u001b[0m\u001b[1;36m0.09254849422800004\u001b[0m\u001b[1;33m,\u001b[0m \u001b[1;33m-\u001b[0m\u001b[1;36m0.09226069620358521\u001b[0m\u001b[1;33m,\u001b[0m \u001b[1;33m-\u001b[0m\u001b[1;36m0.09310197594654847\u001b[0m\u001b[1;33m,\u001b[0m \u001b[1;33m-\u001b[0m\u001b[1;36m0.09489650297359348\u001b[0m\u001b[1;33m,\u001b[0m \u001b[1;33m-\u001b[0m\u001b[1;36m0.09744710695225983\u001b[0m\u001b[1;33m,\u001b[0m \u001b[1;33m-\u001b[0m\u001b[1;36m0.10054228379233865\u001b[0m\u001b[1;33m,\u001b[0m \u001b[1;33m-\u001b[0m\u001b[1;36m0.10396319645627103\u001b[0m\u001b[1;33m,\u001b[0m \u001b[1;33m-\u001b[0m\u001b[1;36m0.10749047986136374\u001b[0m\u001b[1;33m,\u001b[0m \u001b[1;33m-\u001b[0m\u001b[1;36m0.11091067387391593\u001b[0m\u001b[1;33m,\u001b[0m \u001b[1;33m-\u001b[0m\u001b[1;36m0.11402212729077757\u001b[0m\u001b[1;33m,\u001b[0m \u001b[1;33m-\u001b[0m\u001b[1;36m0.11664023814787478\u001b[0m\u001b[1;33m,\u001b[0m \u001b[1;33m-\u001b[0m\u001b[1;36m0.11860192089460166\u001b[0m\u001b[1;33m,\u001b[0m \u001b[1;33m-\u001b[0m\u001b[1;36m0.1197692180869455\u001b[0m\u001b[1;33m,\u001b[0m \u001b[1;33m-\u001b[0m\u001b[1;36m0.12003200241907643\u001b[0m\u001b[1;33m,\u001b[0m \u001b[1;33m-\u001b[0m\u001b[1;36m0.11930974327646074\u001b[0m\u001b[1;33m,\u001b[0m \u001b[1;33m-\u001b[0m\u001b[1;36m0.11755233972720591\u001b[0m\u001b[1;33m,\u001b[0m \u001b[1;33m-\u001b[0m\u001b[1;36m0.11474004819966035\u001b[0m\u001b[1;33m,\u001b[0m \u001b[1;33m-\u001b[0m\u001b[1;36m0.11088255732479078\u001b[0m\u001b[1;33m,\u001b[0m \u001b[1;33m-\u001b[0m\u001b[1;36m0.10601728394490023\u001b[0m\u001b[1;33m,\u001b[0m \u001b[1;33m-\u001b[0m\u001b[1;36m0.10020698260524523\u001b[0m\u001b[1;33m,\u001b[0m \u001b[1;33m-\u001b[0m\u001b[1;36m0.09353677556802084\u001b[0m\u001b[1;33m,\u001b[0m \u001b[1;33m-\u001b[0m\u001b[1;36m0.08611072125806725\u001b[0m\u001b[1;33m,\u001b[0m \u001b[1;33m-\u001b[0m\u001b[1;36m0.07804804593127981\u001b[0m\u001b[1;33m,\u001b[0m \u001b[1;33m-\u001b[0m\u001b[1;36m0.06947916623925608\u001b[0m\u001b[1;33m,\u001b[0m \u001b[1;33m-\u001b[0m\u001b[1;36m0.06054162935579276\u001b[0m\u001b[1;33m,\u001b[0m \u001b[1;33m-\u001b[0m\u001b[1;36m0.051376092652086286\u001b[0m\u001b[1;33m,\u001b[0m \u001b[1;33m-\u001b[0m\u001b[1;36m0.04212245687714344\u001b[0m\u001b[1;33m,\u001b[0m \u001b[1;33m-\u001b[0m\u001b[1;36m0.032916255822882726\u001b[0m\u001b[1;33m,\u001b[0m \u001b[1;33m-\u001b[0m\u001b[1;36m0.023885392004293744\u001b[0m\u001b[1;33m,\u001b[0m \u001b[1;33m-\u001b[0m\u001b[1;36m0.015147292490650274\u001b[0m\u001b[1;33m,\u001b[0m \u001b[1;33m-\u001b[0m\u001b[1;36m0.0068065422449250295\u001b[0m\u001b[1;33m,\u001b[0m \u001b[1;36m0.0010469652586103531\u001b[0m\u001b[1;33m,\u001b[0m \u001b[1;36m0.008339338190798224\u001b[0m\u001b[1;33m,\u001b[0m \u001b[1;36m0.015013452854378263\u001b[0m\u001b[1;33m,\u001b[0m \u001b[1;36m0.02102918872687229\u001b[0m\u001b[1;33m,\u001b[0m \u001b[1;36m0.02636315965363163\u001b[0m\u001b[1;33m,\u001b[0m \u001b[1;36m0.031007982448696972\u001b[0m\u001b[1;33m,\u001b[0m \u001b[1;36m0.03497113578843687\u001b[0m\u001b[1;33m,\u001b[0m \u001b[1;36m0.03827347162156497\u001b[0m\u001b[1;33m,\u001b[0m \u001b[1;36m0.040947448199998335\u001b[0m\u001b[1;33m,\u001b[0m \u001b[1;36m0.04303515817376877\u001b[0m\u001b[1;33m,\u001b[0m \u001b[1;36m0.04458622698895964\u001b[0m\u001b[1;33m,\u001b[0m \u001b[1;36m0.04565565615917914\u001b[0m\u001b[1;33m,\u001b[0m \u001b[1;36m0.04630168300063536\u001b[0m\u001b[1;33m,\u001b[0m \u001b[1;36m0.04658372334598067\u001b[0m\u001b[1;33m,\u001b[0m \u001b[1;36m0.04656045685565553\u001b[0m\u001b[1;33m,\u001b[0m \u001b[1;36m0.04628810614459108\u001b[0m\u001b[1;33m,\u001b[0m \u001b[1;36m0.04581895138599648\u001b[0m\u001b[1;33m,\u001b[0m \u001b[1;36m0.04520011171120741\u001b[0m\u001b[1;33m,\u001b[0m \u001b[1;36m0.04447261397064945\u001b[0m\u001b[1;33m,\u001b[0m \u001b[1;36m0.04367075862579682\u001b[0m\u001b[1;33m,\u001b[0m \u001b[1;36m0.04282178205835436\u001b[0m\u001b[1;33m,\u001b[0m \u001b[1;36m0.04194580473583386\u001b[0m\u001b[1;33m,\u001b[0m \u001b[1;36m0.04105604575039401\u001b[0m\u001b[1;33m,\u001b[0m \u001b[1;36m0.04015927649389507\u001b[0m\u001b[1;33m,\u001b[0m \u001b[1;36m0.03925647983983156\u001b[0m\u001b[1;33m,\u001b[0m \u001b[1;36m0.03834367631104442\u001b[0m\u001b[1;33m,\u001b[0m \u001b[1;36m0.037412875403398056\u001b[0m\u001b[1;33m,\u001b[0m \u001b[1;36m0.03645310853597001\u001b[0m\u001b[1;33m,\u001b[0m \u001b[1;36m0.03545149997903542\u001b[0m\u001b[1;33m,\u001b[0m \u001b[1;36m0.03439433349224851\u001b[0m\u001b[1;33m,\u001b[0m \u001b[1;36m0.033268075160665274\u001b[0m\u001b[1;33m,\u001b[0m \u001b[1;36m0.03206031687938568\u001b[0m\u001b[1;33m,\u001b[0m \u001b[1;36m0.030760609909796417\u001b[0m\u001b[1;33m,\u001b[0m \u001b[1;36m0.029361163688384453\u001b[0m\u001b[1;33m,\u001b[0m \u001b[1;36m0.027857391373749416\u001b[0m\u001b[1;33m,\u001b[0m \u001b[1;36m0.026248290222591373\u001b[0m\u001b[1;33m,\u001b[0m \u001b[1;36m0.02453665154652253\u001b[0m\u001b[1;33m,\u001b[0m \u001b[1;36m0.022729101483830335\u001b[0m\u001b[1;33m,\u001b[0m \u001b[1;36m0.020190015397664865\u001b[0m\u001b[1;33m,\u001b[0m \u001b[1;36m0.017657088149275205\u001b[0m\u001b[1;33m,\u001b[0m \u001b[1;36m0.015166501210100922\u001b[0m\u001b[1;33m,\u001b[0m \u001b[1;36m0.012756027133629094\u001b[0m\u001b[1;33m,\u001b[0m \u001b[1;36m0.010463212035055828\u001b[0m\u001b[1;33m,\u001b[0m \u001b[1;33m-\u001b[0m\u001b[1;36m0.0366825179342227\u001b[0m\u001b[1;33m,\u001b[0m \u001b[1;33m-\u001b[0m\u001b[1;36m0.04226073320700407\u001b[0m\u001b[1;33m,\u001b[0m \u001b[1;33m-\u001b[0m\u001b[1;36m0.04727957315187786\u001b[0m\u001b[1;33m,\u001b[0m \u001b[1;33m-\u001b[0m\u001b[1;36m0.051622577549138876\u001b[0m\u001b[1;33m,\u001b[0m \u001b[1;33m-\u001b[0m\u001b[1;36m0.05520778483542243\u001b[0m\u001b[1;33m,\u001b[0m \u001b[1;33m-\u001b[0m\u001b[1;36m0.05799339253944945\u001b[0m\u001b[1;33m,\u001b[0m \u001b[1;33m-\u001b[0m\u001b[1;36m0.0599802936180752\u001b[0m\u001b[1;33m,\u001b[0m \u001b[1;33m-\u001b[0m\u001b[1;36m0.05613522357950134\u001b[0m\u001b[1;33m,\u001b[0m \u001b[1;33m-\u001b[0m\u001b[1;36m0.052541450521939315\u001b[0m\u001b[1;33m,\u001b[0m \u001b[1;33m-\u001b[0m\u001b[1;36m0.0492801743146953\u001b[0m\u001b[1;33m,\u001b[0m \u001b[1;33m-\u001b[0m\u001b[1;36m0.04642683699007931\u001b[0m\u001b[1;33m,\u001b[0m \u001b[1;33m-\u001b[0m\u001b[1;36m0.04404883032024114\u001b[0m\u001b[1;33m,\u001b[0m \u001b[1;33m-\u001b[0m\u001b[1;36m0.0422032736288723\u001b[0m\u001b[1;33m,\u001b[0m \u001b[1;33m-\u001b[0m\u001b[1;36m0.040934929373575665\u001b[0m\u001b[1;33m,\u001b[0m \u001b[1;33m-\u001b[0m\u001b[1;36m0.040274324762261136\u001b[0m\u001b[1;33m,\u001b[0m \u001b[1;33m-\u001b[0m\u001b[1;36m0.04023614625452119\u001b[0m\u001b[1;33m,\u001b[0m \u001b[1;33m-\u001b[0m\u001b[1;36m0.040817970150085044\u001b[0m\u001b[1;33m,\u001b[0m \u001b[1;33m-\u001b[0m\u001b[1;36m0.04199938655633386\u001b[0m\u001b[1;33m,\u001b[0m \u001b[1;33m-\u001b[0m\u001b[1;36m0.043741565907152724\u001b[0m\u001b[1;33m,\u001b[0m \u001b[1;33m-\u001b[0m\u001b[1;36m0.0459873070065826\u001b[0m\u001b[1;33m,\u001b[0m \u001b[1;33m-\u001b[0m\u001b[1;36m0.04866159350176336\u001b[0m\u001b[1;33m,\u001b[0m \u001b[1;33m-\u001b[0m\u001b[1;36m0.05167267203482742\u001b[0m\u001b[1;33m,\u001b[0m \u001b[1;33m-\u001b[0m\u001b[1;36m0.05491365043647084\u001b[0m\u001b[1;33m,\u001b[0m \u001b[1;33m-\u001b[0m\u001b[1;36m0.0582645986195226\u001b[0m\u001b[1;33m,\u001b[0m \u001b[1;33m-\u001b[0m\u001b[1;36m0.06159511877336506\u001b[0m\u001b[1;33m,\u001b[0m \u001b[1;33m-\u001b[0m\u001b[1;36m0.0647673355504032\u001b[0m\u001b[1;33m,\u001b[0m \u001b[1;33m-\u001b[0m\u001b[1;36m0.06763924169610701\u001b[0m\u001b[1;33m,\u001b[0m \u001b[1;33m-\u001b[0m\u001b[1;36m0.07006832053133\u001b[0m\u001b[1;33m,\u001b[0m \u001b[1;33m-\u001b[0m\u001b[1;36m0.07191535436373435\u001b[0m\u001b[1;33m,\u001b[0m \u001b[1;33m-\u001b[0m\u001b[1;36m0.07304831776771349\u001b[0m\u001b[1;33m,\u001b[0m \u001b[1;33m-\u001b[0m\u001b[1;36m0.07334624716450246\u001b[0m\u001b[1;33m,\u001b[0m \u001b[1;33m-\u001b[0m\u001b[1;36m0.07270297362661775\u001b[0m\u001b[1;33m,\u001b[0m \u001b[1;33m-\u001b[0m\u001b[1;36m0.07103060461362906\u001b[0m\u001b[1;33m,\u001b[0m \u001b[1;33m-\u001b[0m\u001b[1;36m0.06826264261641736\u001b[0m\u001b[1;33m,\u001b[0m \u001b[1;33m-\u001b[0m\u001b[1;36m0.06435663453734732\u001b[0m\u001b[1;33m,\u001b[0m \u001b[1;33m-\u001b[0m\u001b[1;36m0.05929625504529296\u001b[0m\u001b[1;33m,\u001b[0m \u001b[1;33m-\u001b[0m\u001b[1;36m0.05309273998232496\u001b[0m\u001b[1;33m,\u001b[0m \u001b[1;33m-\u001b[0m\u001b[1;36m0.04578560191159997\u001b[0m\u001b[1;33m,\u001b[0m \u001b[1;33m-\u001b[0m\u001b[1;36m0.03744257871866081\u001b[0m\u001b[1;33m,\u001b[0m \u001b[1;33m-\u001b[0m\u001b[1;36m0.028158787339654063\u001b[0m\u001b[1;33m,\u001b[0m \u001b[1;33m-\u001b[0m\u001b[1;36m0.018055077623024048\u001b[0m\u001b[1;33m,\u001b[0m \u001b[1;33m-\u001b[0m\u001b[1;36m0.007275605387978329\u001b[0m\u001b[1;33m,\u001b[0m \u001b[1;36m0.004015331788237851\u001b[0m\u001b[1;33m,\u001b[0m \u001b[1;36m0.015637128396409385\u001b[0m\u001b[1;33m,\u001b[0m \u001b[1;36m0.02739728376966687\u001b[0m\u001b[1;33m,\u001b[0m \u001b[1;36m0.03909628202451107\u001b[0m\u001b[1;33m,\u001b[0m \u001b[1;36m0.050532808905258866\u001b[0m\u001b[1;33m,\u001b[0m \u001b[1;36m0.06150916011214658\u001b[0m\u001b[1;33m,\u001b[0m \u001b[1;36m0.07183668447513726\u001b[0m\u001b[1;33m,\u001b[0m \u001b[1;36m0.08134109856836343\u001b[0m\u001b[1;33m,\u001b[0m \u001b[1;36m0.08986750743631171\u001b[0m\u001b[1;33m,\u001b[0m \u001b[1;36m0.09728496927671752\u001b[0m\u001b[1;33m,\u001b[0m \u001b[1;36m0.10349045029974198\u001b[0m\u001b[1;33m,\u001b[0m \u001b[1;36m0.10841202950086203\u001b[0m\u001b[1;33m,\u001b[0m \u001b[1;36m0.11201123152352999\u001b[0m\u001b[1;33m,\u001b[0m \u001b[1;36m0.11428438876018535\u001b[0m\u001b[1;33m,\u001b[0m \u001b[1;36m0.11526296080122975\u001b[0m\u001b[1;33m,\u001b[0m \u001b[1;36m0.115012769598275\u001b[0m\u001b[1;33m,\u001b[0m \u001b[1;36m0.11363214143622494\u001b[0m\u001b[1;33m,\u001b[0m \u001b[1;36m0.1112489810740951\u001b[0m\u001b[1;33m,\u001b[0m \u001b[1;36m0.10801683819726388\u001b[0m\u001b[1;33m,\u001b[0m \u001b[1;36m0.10411006054808836\u001b[0m\u001b[1;33m,\u001b[0m \u001b[1;36m0.0997181606668117\u001b[0m\u001b[1;33m,\u001b[0m \u001b[1;36m0.09503955298869599\u001b[0m\u001b[1;33m,\u001b[0m \u001b[1;36m0.09027484405814919\u001b[0m\u001b[1;33m,\u001b[0m \u001b[1;36m0.08561987986623716\u001b[0m\u001b[1;33m,\u001b[0m \u001b[1;36m0.08125876993587555\u001b[0m\u001b[1;33m,\u001b[0m \u001b[1;36m0.07735711705342653\u001b[0m\u001b[1;33m,\u001b[0m \u001b[1;36m0.07405568393126231\u001b[0m\u001b[1;33m,\u001b[0m \u001b[1;36m0.07146472323226205\u001b[0m\u001b[1;33m,\u001b[0m \u001b[1;36m0.06965918515607708\u001b[0m\u001b[1;33m,\u001b[0m \u001b[1;36m0.0686749972654863\u001b[0m\u001b[1;33m,\u001b[0m \u001b[1;36m0.06850658473766535\u001b[0m\u001b[1;33m,\u001b[0m \u001b[1;36m0.06910576630835027\u001b[0m\u001b[1;33m,\u001b[0m \u001b[1;36m0.07038212260736093\u001b[0m\u001b[1;33m,\u001b[0m \u001b[1;36m0.07220489033906474\u001b[0m\u001b[1;33m,\u001b[0m \u001b[1;36m0.07440638900258956\u001b[0m\u001b[1;33m,\u001b[0m \u001b[1;36m0.07678693789061702\u001b[0m\u001b[1;33m,\u001b[0m \u001b[1;36m0.07912117138935021\u001b[0m\u001b[1;33m,\u001b[0m \u001b[1;36m0.08116561164300994\u001b[0m\u001b[1;33m,\u001b[0m \u001b[1;36m0.08266731099755834\u001b[0m\u001b[1;33m,\u001b[0m \u001b[1;36m0.0833733338434644\u001b[0m\u001b[1;33m,\u001b[0m \u001b[1;36m0.08304081002081423\u001b[0m\u001b[1;33m,\u001b[0m \u001b[1;36m0.0814472612097942\u001b[0m\u001b[1;33m,\u001b[0m \u001b[1;36m0.07840087893002613\u001b[0m\u001b[1;33m,\u001b[0m \u001b[1;36m0.07375041894089614\u001b[0m\u001b[1;33m,\u001b[0m \u001b[1;36m0.0673943727632624\u001b[0m\u001b[1;33m,\u001b[0m \u001b[1;36m0.059289083252743915\u001b[0m\u001b[1;33m,\u001b[0m \u001b[1;36m0.049455487872675556\u001b[0m\u001b[1;33m,\u001b[0m \u001b[1;36m0.03798420045383566\u001b[0m\u001b[1;33m,\u001b[0m \u001b[1;36m0.02503867937897916\u001b[0m\u001b[1;33m,\u001b[0m \u001b[1;36m0.010856276562299906\u001b[0m\u001b[1;33m,\u001b[0m \u001b[1;33m-\u001b[0m\u001b[1;36m0.004252983734299754\u001b[0m\u001b[1;33m,\u001b[0m \u001b[1;33m-\u001b[0m\u001b[1;36m0.01990998562633304\u001b[0m\u001b[1;33m,\u001b[0m \u001b[1;33m-\u001b[0m\u001b[1;36m0.03567248435439499\u001b[0m\u001b[1;33m,\u001b[0m \u001b[1;33m-\u001b[0m\u001b[1;36m0.0510434031323722\u001b[0m\u001b[1;33m,\u001b[0m \u001b[1;33m-\u001b[0m\u001b[1;36m0.065481344248264\u001b[0m\u001b[1;33m,\u001b[0m \u001b[1;33m-\u001b[0m\u001b[1;36m0.07841312322188218\u001b[0m\u001b[1;33m,\u001b[0m \u001b[1;33m-\u001b[0m\u001b[1;36m0.08924806621238408\u001b[0m\u001b[1;33m,\u001b[0m \u001b[1;33m-\u001b[0m\u001b[1;36m0.09739374714561679\u001b[0m\u001b[1;33m,\u001b[0m \u001b[1;33m-\u001b[0m\u001b[1;36m0.10227278427606624\u001b[0m\u001b[1;33m,\u001b[0m \u001b[1;33m-\u001b[0m\u001b[1;36m0.1033402680521041\u001b[0m\u001b[1;33m,\u001b[0m \u001b[1;33m-\u001b[0m\u001b[1;36m0.10010135495566622\u001b[0m\u001b[1;33m,\u001b[0m \u001b[1;33m-\u001b[0m\u001b[1;36m0.09212853691668343\u001b[0m\u001b[1;33m,\u001b[0m \u001b[1;33m-\u001b[0m\u001b[1;36m0.07907808412220638\u001b[0m\u001b[1;33m,\u001b[0m \u001b[1;33m-\u001b[0m\u001b[1;36m0.06070516135422789\u001b[0m\u001b[1;33m,\u001b[0m \u001b[1;33m-\u001b[0m\u001b[1;36m0.03687713480757023\u001b[0m\u001b[1;33m,\u001b[0m \u001b[1;33m-\u001b[0m\u001b[1;36m0.007584617649264765\u001b[0m\u001b[1;33m,\u001b[0m \u001b[1;36m0.02705015205857044\u001b[0m\u001b[1;33m,\u001b[0m \u001b[1;36m0.06676794891214405\u001b[0m\u001b[1;33m,\u001b[0m \u001b[1;36m0.11117049060910963\u001b[0m\u001b[1;33m,\u001b[0m \u001b[1;36m0.15972185805889855\u001b[0m\u001b[1;33m,\u001b[0m \u001b[1;36m0.21175351312007043\u001b[0m\u001b[1;33m,\u001b[0m \u001b[1;36m0.26647292724987515\u001b[0m\u001b[1;33m,\u001b[0m \u001b[1;36m0.3229757363794142\u001b[0m\u001b[1;33m,\u001b[0m \u001b[1;36m0.3802612387821134\u001b[0m\u001b[1;33m,\u001b[0m \u001b[1;36m0.4372509563927263\u001b[0m\u001b[1;33m,\u001b[0m \u001b[1;36m0.492809888771142\u001b[0m\u001b[1;33m,\u001b[0m \u001b[1;36m0.5457700054211923\u001b[0m\u001b[1;33m,\u001b[0m \u001b[1;36m0.5949554490359745\u001b[0m\u001b[1;33m,\u001b[0m \u001b[1;36m0.6392088617692011\u001b[0m\u001b[1;33m,\u001b[0m \u001b[1;36m0.6774182008281961\u001b[0m\u001b[1;33m,\u001b[0m \u001b[1;36m0.7085433801637595\u001b[0m\u001b[1;33m,\u001b[0m \u001b[1;36m0.731642062968834\u001b[0m\u001b[1;33m,\u001b[0m \u001b[1;36m0.745893935780564\u001b[0m\u001b[1;33m,\u001b[0m \u001b[1;36m0.7506228193838713\u001b[0m\u001b[1;33m,\u001b[0m \u001b[1;36m0.7453160140865019\u001b[0m\u001b[1;33m,\u001b[0m \u001b[1;36m0.7296403363975886\u001b[0m\u001b[1;33m,\u001b[0m \u001b[1;36m0.7034543793090974\u001b[0m\u001b[1;33m,\u001b[0m \u001b[1;36m0.6668166173939536\u001b[0m\u001b[1;33m,\u001b[0m \u001b[1;36m0.6199890785140483\u001b[0m\u001b[1;33m,\u001b[0m \u001b[1;36m0.5634364134319768\u001b[0m\u001b[1;33m,\u001b[0m \u001b[1;36m0.49782031011121464\u001b[0m\u001b[1;33m,\u001b[0m \u001b[1;36m0.4239893178358324\u001b[0m\u001b[1;33m,\u001b[0m \u001b[1;36m0.3429642642352846\u001b[0m\u001b[1;33m,\u001b[0m \u001b[1;36m0.255919562596872\u001b[0m\u001b[1;33m,\u001b[0m \u001b[1;36m0.16416081430099663\u001b[0m\u001b[1;33m,\u001b[0m \u001b[1;36m0.06909920880791237\u001b[0m\u001b[1;33m,\u001b[0m \u001b[1;33m-\u001b[0m\u001b[1;36m0.027776691392643105\u001b[0m\u001b[1;33m,\u001b[0m \u001b[1;33m-\u001b[0m\u001b[1;36m0.12493112349300262\u001b[0m\u001b[1;33m,\u001b[0m \u001b[1;33m-\u001b[0m\u001b[1;36m0.22081254440845308\u001b[0m\u001b[1;33m,\u001b[0m \u001b[1;33m-\u001b[0m\u001b[1;36m0.3138855533822785\u001b[0m\u001b[1;33m,\u001b[0m \u001b[1;33m-\u001b[0m\u001b[1;36m0.40266255747121915\u001b[0m\u001b[1;33m,\u001b[0m \u001b[1;33m-\u001b[0m\u001b[1;36m0.48573442526430616\u001b[0m\u001b[1;33m,\u001b[0m \u001b[1;33m-\u001b[0m\u001b[1;36m0.5617993990558706\u001b[0m\u001b[1;33m,\u001b[0m \u001b[1;33m-\u001b[0m\u001b[1;36m0.6296895797076385\u001b[0m\u001b[1;33m,\u001b[0m \u001b[1;33m-\u001b[0m\u001b[1;36m0.6883943603703857\u001b[0m\u001b[1;33m,\u001b[0m \u001b[1;33m-\u001b[0m\u001b[1;36m0.7370802633648126\u001b[0m\u001b[1;33m,\u001b[0m \u001b[1;33m-\u001b[0m\u001b[1;36m0.7751067266651946\u001b[0m\u001b[1;33m,\u001b[0m \u001b[1;33m-\u001b[0m\u001b[1;36m0.8020374900231647\u001b[0m\u001b[1;33m,\u001b[0m \u001b[1;33m-\u001b[0m\u001b[1;36m0.8176473429383959\u001b[0m\u001b[1;33m,\u001b[0m \u001b[1;33m-\u001b[0m\u001b[1;36m0.8219241143293926\u001b[0m\u001b[1;33m,\u001b[0m \u001b[1;33m-\u001b[0m\u001b[1;36m0.8150659036495127\u001b[0m\u001b[1;33m,\u001b[0m \u001b[1;33m-\u001b[0m\u001b[1;36m0.7974736720607033\u001b[0m\u001b[1;33m,\u001b[0m \u001b[1;33m-\u001b[0m\u001b[1;36m0.7697394269067406\u001b[0m\u001b[1;33m,\u001b[0m \u001b[1;33m-\u001b[0m\u001b[1;36m0.7326303400542534\u001b[0m\u001b[1;33m,\u001b[0m \u001b[1;33m-\u001b[0m\u001b[1;36m0.6870692378645402\u001b[0m\u001b[1;33m,\u001b[0m \u001b[1;33m-\u001b[0m\u001b[1;36m0.6341119851079384\u001b[0m\u001b[1;33m,\u001b[0m \u001b[1;33m-\u001b[0m\u001b[1;36m0.5749223549047292\u001b[0m\u001b[1;33m,\u001b[0m \u001b[1;33m-\u001b[0m\u001b[1;36m0.510745030081699\u001b[0m\u001b[1;33m,\u001b[0m \u001b[1;33m-\u001b[0m\u001b[1;36m0.4428774169640366\u001b[0m\u001b[1;33m,\u001b[0m \u001b[1;33m-\u001b[0m\u001b[1;36m0.37264096988149903\u001b[0m\u001b[1;33m,\u001b[0m \u001b[1;33m-\u001b[0m\u001b[1;36m0.3013527233823867\u001b[0m\u001b[1;33m,\u001b[0m \u001b[1;33m-\u001b[0m\u001b[1;36m0.23029770966565613\u001b[0m\u001b[1;33m,\u001b[0m \u001b[1;33m-\u001b[0m\u001b[1;36m0.16070290190906436\u001b[0m\u001b[1;33m,\u001b[0m \u001b[1;33m-\u001b[0m\u001b[1;36m0.0937132713071107\u001b[0m\u001b[1;33m,\u001b[0m \u001b[1;33m-\u001b[0m\u001b[1;36m0.030370478477117414\u001b[0m\u001b[1;33m,\u001b[0m \u001b[1;36m0.028405359449235272\u001b[0m\u001b[1;33m,\u001b[0m \u001b[1;36m0.08183047385452012\u001b[0m\u001b[1;33m,\u001b[0m \u001b[1;36m0.12926856586755164\u001b[0m\u001b[1;33m,\u001b[0m \u001b[1;36m0.1702380885434118\u001b[0m\u001b[1;33m,\u001b[0m \u001b[1;36m0.20441563694885484\u001b[0m\u001b[1;33m,\u001b[0m \u001b[1;36m0.231635494062453\u001b[0m\u001b[1;33m,\u001b[0m \u001b[1;36m0.2518854773786521\u001b[0m\u001b[1;33m,\u001b[0m \u001b[1;36m0.2652993215763615\u001b[0m\u001b[1;33m,\u001b[0m \u001b[1;36m0.2721459142832286\u001b[0m\u001b[1;33m,\u001b[0m \u001b[1;36m0.27281577284675007\u001b[0m\u001b[1;33m,\u001b[0m \u001b[1;36m0.2678052084754118\u001b[0m\u001b[1;33m,\u001b[0m \u001b[1;36m0.2576986688894949\u001b[0m\u001b[1;33m,\u001b[0m \u001b[1;36m0.2431497808896376\u001b[0m\u001b[1;33m,\u001b[0m \u001b[1;36m0.22486162960716657\u001b[0m\u001b[1;33m,\u001b[0m \u001b[1;36m0.20356681166689053\u001b[0m\u001b[1;33m,\u001b[0m \u001b[1;36m0.18000778550908259\u001b[0m\u001b[1;33m,\u001b[0m \u001b[1;36m0.15491801451250942\u001b[0m\u001b[1;33m,\u001b[0m \u001b[1;36m0.1290043585206972\u001b[0m\u001b[1;33m,\u001b[0m \u001b[1;36m0.10293111839745528\u001b[0m\u001b[1;33m,\u001b[0m \u001b[1;36m0.07730607808364884\u001b[0m\u001b[1;33m,\u001b[0m \u001b[1;36m0.05266882125644615\u001b[0m\u001b[1;33m,\u001b[0m \u001b[1;36m0.02948152720636685\u001b[0m\u001b[1;33m,\u001b[0m \u001b[1;36m0.008122375124375874\u001b[0m\u001b[1;33m,\u001b[0m \u001b[1;33m-\u001b[0m\u001b[1;36m0.01111839017909005\u001b[0m\u001b[1;33m,\u001b[0m \u001b[1;33m-\u001b[0m\u001b[1;36m0.028039752879760294\u001b[0m\u001b[1;33m,\u001b[0m \u001b[1;33m-\u001b[0m\u001b[1;36m0.042528674183918105\u001b[0m\u001b[1;33m,\u001b[0m \u001b[1;33m-\u001b[0m\u001b[1;36m0.05455645299721912\u001b[0m\u001b[1;33m,\u001b[0m \u001b[1;33m-\u001b[0m\u001b[1;36m0.06417291753637311\u001b[0m\u001b[1;33m,\u001b[0m \u001b[1;33m-\u001b[0m\u001b[1;36m0.07149871699506355\u001b[0m\u001b[1;33m,\u001b[0m \u001b[1;33m-\u001b[0m\u001b[1;36m0.07671602371109933\u001b[0m\u001b[1;33m,\u001b[0m \u001b[1;33m-\u001b[0m\u001b[1;36m0.08005798734827799\u001b[0m\u001b[1;33m,\u001b[0m \u001b[1;33m-\u001b[0m\u001b[1;36m0.08179730291037662\u001b[0m\u001b[1;33m,\u001b[0m \u001b[1;33m-\u001b[0m\u001b[1;36m0.08223426377415095\u001b[0m\u001b[1;33m,\u001b[0m \u001b[1;33m-\u001b[0m\u001b[1;36m0.08168466950653097\u001b[0m\u001b[1;33m,\u001b[0m \u001b[1;33m-\u001b[0m\u001b[1;36m0.08046794646177527\u001b[0m\u001b[1;33m,\u001b[0m \u001b[1;33m-\u001b[0m\u001b[1;36m0.0788958177574955\u001b[0m\u001b[1;33m,\u001b[0m \u001b[1;33m-\u001b[0m\u001b[1;36m0.07726182917101115\u001b[0m\u001b[1;33m,\u001b[0m \u001b[1;33m-\u001b[0m\u001b[1;36m0.07583199995637213\u001b[0m\u001b[1;33m,\u001b[0m \u001b[1;33m-\u001b[0m\u001b[1;36m0.07483682390350214\u001b[0m\u001b[1;33m,\u001b[0m \u001b[1;33m-\u001b[0m\u001b[1;36m0.07446479761462822\u001b[0m\u001b[1;33m,\u001b[0m \u001b[1;33m-\u001b[0m\u001b[1;36m0.07485760150777715\u001b[0m\u001b[1;33m,\u001b[0m \u001b[1;33m-\u001b[0m\u001b[1;36m0.07610700605185566\u001b[0m\u001b[1;33m,\u001b[0m \u001b[1;33m-\u001b[0m\u001b[1;36m0.0782535227565861\u001b[0m\u001b[1;33m,\u001b[0m \u001b[1;33m-\u001b[0m\u001b[1;36m0.08128676798784397\u001b[0m\u001b[1;33m,\u001b[0m \u001b[1;33m-\u001b[0m\u001b[1;36m0.0851474591590961\u001b[0m\u001b[1;33m,\u001b[0m \u001b[1;33m-\u001b[0m\u001b[1;36m0.08973091853051776\u001b[0m\u001b[1;33m,\u001b[0m \u001b[1;33m-\u001b[0m\u001b[1;36m0.0948919208292368\u001b[0m\u001b[1;33m,\u001b[0m \u001b[1;33m-\u001b[0m\u001b[1;36m0.10045068809457926\u001b[0m\u001b[1;33m,\u001b[0m \u001b[1;33m-\u001b[0m\u001b[1;36m0.10619980924741323\u001b[0m\u001b[1;33m,\u001b[0m \u001b[1;33m-\u001b[0m\u001b[1;36m0.11191184335576107\u001b[0m\u001b[1;33m,\u001b[0m \u001b[1;33m-\u001b[0m\u001b[1;36m0.11734735466463461\u001b[0m\u001b[1;33m,\u001b[0m \u001b[1;33m-\u001b[0m\u001b[1;36m0.12226312419493882\u001b[0m\u001b[1;33m,\u001b[0m \u001b[1;33m-\u001b[0m\u001b[1;36m0.12642028689438223\u001b[0m\u001b[1;33m,\u001b[0m \u001b[1;33m-\u001b[0m\u001b[1;36m0.12959215453851547\u001b[0m\u001b[1;33m,\u001b[0m \u001b[1;33m-\u001b[0m\u001b[1;36m0.13157150224339378\u001b[0m\u001b[1;33m,\u001b[0m \u001b[1;33m-\u001b[0m\u001b[1;36m0.1321771198131917\u001b[0m\u001b[1;33m,\u001b[0m \u001b[1;33m-\u001b[0m\u001b[1;36m0.13125945732344674\u001b[0m\u001b[1;33m,\u001b[0m \u001b[1;33m-\u001b[0m\u001b[1;36m0.12870522634769307\u001b[0m\u001b[1;33m,\u001b[0m \u001b[1;33m-\u001b[0m\u001b[1;36m0.12444085301556479\u001b[0m\u001b[1;33m,\u001b[0m \u001b[1;33m-\u001b[0m\u001b[1;36m0.11843471554965712\u001b[0m\u001b[1;33m,\u001b[0m \u001b[1;33m-\u001b[0m\u001b[1;36m0.11069813596702197\u001b[0m\u001b[1;33m,\u001b[0m \u001b[1;33m-\u001b[0m\u001b[1;36m0.10128513217596266\u001b[0m\u001b[1;33m,\u001b[0m \u001b[1;33m-\u001b[0m\u001b[1;36m0.09029097173247834\u001b[0m\u001b[1;33m,\u001b[0m \u001b[1;33m-\u001b[0m\u001b[1;36m0.07784960110857725\u001b[0m\u001b[1;33m,\u001b[0m \u001b[1;33m-\u001b[0m\u001b[1;36m0.06413005363793724\u001b[0m\u001b[1;33m,\u001b[0m \u001b[1;33m-\u001b[0m\u001b[1;36m0.049331964639505094\u001b[0m\u001b[1;33m,\u001b[0m \u001b[1;33m-\u001b[0m\u001b[1;36m0.03368034301333433\u001b[0m\u001b[1;33m,\u001b[0m \u001b[1;33m-\u001b[0m\u001b[1;36m0.01741976444263233\u001b[0m\u001b[1;33m,\u001b[0m \u001b[1;33m-\u001b[0m\u001b[1;36m0.0008081619653377186\u001b[0m\u001b[1;33m,\u001b[0m \u001b[1;36m0.015889605001427415\u001b[0m\u001b[1;33m,\u001b[0m \u001b[1;36m0.032408222035205686\u001b[0m\u001b[1;33m,\u001b[0m \u001b[1;36m0.04848825531983327\u001b[0m\u001b[1;33m,\u001b[0m \u001b[1;36m0.0638821850412683\u001b[0m\u001b[1;33m,\u001b[0m \u001b[1;36m0.07835998408503282\u001b[0m\u001b[1;33m,\u001b[0m \u001b[1;36m0.09171410723146153\u001b[0m\u001b[1;33m,\u001b[0m \u001b[1;36m0.10376377679342585\u001b[0m\u001b[1;33m,\u001b[0m \u001b[1;36m0.11435847376085462\u001b[0m\u001b[1;33m,\u001b[0m \u001b[1;36m0.12338056827045617\u001b[0m\u001b[1;33m,\u001b[0m \u001b[1;36m0.1307470488549307\u001b[0m\u001b[1;33m,\u001b[0m \u001b[1;36m0.1364103356970098\u001b[0m\u001b[1;33m,\u001b[0m \u001b[1;36m0.14035818829998062\u001b[0m\u001b[1;33m,\u001b[0m \u001b[1;36m0.14261274191394263\u001b[0m\u001b[1;33m,\u001b[0m \u001b[1;36m0.14322872911479947\u001b[0m\u001b[1;33m,\u001b[0m \u001b[1;36m0.14229096258721016\u001b[0m\u001b[1;33m,\u001b[0m \u001b[1;36m0.13991117196883132\u001b[0m\u001b[1;33m,\u001b[0m \u001b[1;36m0.13622430122438528\u001b[0m\u001b[1;33m,\u001b[0m \u001b[1;36m0.1313843831909403\u001b[0m\u001b[1;33m,\u001b[0m \u001b[1;36m0.12556011453258384\u001b[0m\u001b[1;33m,\u001b[0m \u001b[1;36m0.11893025733074562\u001b[0m\u001b[1;33m,\u001b[0m \u001b[1;36m0.11167899298457565\u001b[0m\u001b[1;33m,\u001b[0m \u001b[1;36m0.10399135016791063\u001b[0m\u001b[1;33m,\u001b[0m \u001b[1;36m0.09604882153582459\u001b[0m\u001b[1;33m,\u001b[0m \u001b[1;36m0.08802527402059258\u001b[0m\u001b[1;33m,\u001b[0m \u001b[1;36m0.08008324529343351\u001b[0m\u001b[1;33m,\u001b[0m \u001b[1;36m0.07237070473366748\u001b[0m\u001b[1;33m,\u001b[0m \u001b[1;36m0.06501834151523284\u001b[0m\u001b[1;33m,\u001b[0m \u001b[1;36m0.058137425686719486\u001b[0m\u001b[1;33m,\u001b[0m \u001b[1;36m0.05181827088594358\u001b[0m\u001b[1;33m,\u001b[0m \u001b[1;36m0.04612931008609882\u001b[0m\u001b[1;33m,\u001b[0m \u001b[1;36m0.04111677898860285\u001b[0m\u001b[1;33m,\u001b[0m \u001b[1;36m0.036804985795192716\u001b[0m\u001b[1;33m,\u001b[0m \u001b[1;36m0.033197131501636994\u001b[0m\u001b[1;33m,\u001b[0m \u001b[1;36m0.030276631897498445\u001b[0m\u001b[1;33m,\u001b[0m \u001b[1;36m0.02800888141041458\u001b[0m\u001b[1;33m,\u001b[0m \u001b[1;36m0.026343390013890074\u001b[0m\u001b[1;33m,\u001b[0m \u001b[1;36m0.025216217770970127\u001b[0m\u001b[1;33m,\u001b[0m \u001b[1;36m0.02455262728961032\u001b[0m\u001b[1;33m,\u001b[0m \u001b[1;36m0.024269872428165917\u001b[0m\u001b[1;33m,\u001b[0m \u001b[1;36m0.024280041954986613\u001b[0m\u001b[1;33m,\u001b[0m \u001b[1;36m0.02449287941763846\u001b[0m\u001b[1;33m,\u001b[0m \u001b[1;36m0.024818505043009975\u001b[0m\u001b[1;33m,\u001b[0m \u001b[1;36m0.02516997185016548\u001b[0m\u001b[1;33m,\u001b[0m \u001b[1;36m0.02546559605461325\u001b[0m\u001b[1;33m,\u001b[0m \u001b[1;36m0.02563101098657632\u001b[0m\u001b[1;33m,\u001b[0m \u001b[1;36m0.025600903826758475\u001b[0m\u001b[1;33m,\u001b[0m \u001b[1;36m0.025320405159333443\u001b[0m\u001b[1;33m,\u001b[0m \u001b[1;36m0.02474611232968672\u001b[0m\u001b[1;33m,\u001b[0m \u001b[1;36m0.023846738556985603\u001b[0m\u001b[1;33m,\u001b[0m \u001b[1;36m0.022603390387519042\u001b[0m\u001b[1;33m,\u001b[0m \u001b[1;36m0.021009486105568236\u001b[0m\u001b[1;33m,\u001b[0m \u001b[1;36m0.019070336895713892\u001b[0m\u001b[1;33m,\u001b[0m \u001b[1;36m0.01680242066064031\u001b[0m\u001b[1;33m,\u001b[0m \u001b[1;36m0.014232385268004742\u001b[0m\u001b[1;33m,\u001b[0m \u001b[1;36m0.01139582349787803\u001b[0m\u001b[1;33m,\u001b[0m \u001b[1;36m0.008335866002180881\u001b[0m\u001b[1;33m,\u001b[0m \u001b[1;36m0.005101641127918062\u001b[0m\u001b[1;33m,\u001b[0m \u001b[1;36m0.0017466514994229883\u001b[0m\u001b[1;33m,\u001b[0m \u001b[1;33m-\u001b[0m\u001b[1;36m0.001672883154073881\u001b[0m\u001b[1;33m,\u001b[0m \u001b[1;33m-\u001b[0m\u001b[1;36m0.005099669216816561\u001b[0m\u001b[1;33m,\u001b[0m \u001b[1;33m-\u001b[0m\u001b[1;36m0.006702723005787093\u001b[0m\u001b[1;33m,\u001b[0m \u001b[1;33m-\u001b[0m\u001b[1;36m0.007872375963401696\u001b[0m\u001b[1;33m,\u001b[0m \u001b[1;33m-\u001b[0m\u001b[1;36m0.008591927725354855\u001b[0m\u001b[1;33m,\u001b[0m \u001b[1;33m-\u001b[0m\u001b[1;36m0.008863473084319487\u001b[0m\u001b[1;33m,\u001b[0m \u001b[1;33m-\u001b[0m\u001b[1;36m0.008707376856076296\u001b[0m\u001b[1;33m]\u001b[0m\u001b[1;33m\u001b[0m\u001b[1;33m\u001b[0m\u001b[0m\n\u001b[0;32m      3\u001b[0m \u001b[1;33m\u001b[0m\u001b[0m\n\u001b[1;32m----> 4\u001b[1;33m print(requests.post(\"http://127.0.0.1:5000/ecgs/patientless/add\", data=json.dumps({\"data\":data,\"ecgId\":\"1\",\n\u001b[0m\u001b[0;32m      5\u001b[0m \u001b[1;34m\"fs\"\u001b[0m\u001b[1;33m:\u001b[0m\u001b[1;36m360\u001b[0m\u001b[1;33m,\u001b[0m\u001b[1;33m\u001b[0m\u001b[1;33m\u001b[0m\u001b[0m\n\u001b[0;32m      6\u001b[0m \"picture\":\"okay <3\" }), headers={ \"Content-Type\":\"application/json\"}).json())\n",
      "\u001b[1;32mc:\\users\\dell\\appdata\\local\\programs\\python\\python38\\lib\\site-packages\\requests\\models.py\u001b[0m in \u001b[0;36mjson\u001b[1;34m(self, **kwargs)\u001b[0m\n\u001b[0;32m    896\u001b[0m                     \u001b[1;31m# used.\u001b[0m\u001b[1;33m\u001b[0m\u001b[1;33m\u001b[0m\u001b[1;33m\u001b[0m\u001b[0m\n\u001b[0;32m    897\u001b[0m                     \u001b[1;32mpass\u001b[0m\u001b[1;33m\u001b[0m\u001b[1;33m\u001b[0m\u001b[0m\n\u001b[1;32m--> 898\u001b[1;33m         \u001b[1;32mreturn\u001b[0m \u001b[0mcomplexjson\u001b[0m\u001b[1;33m.\u001b[0m\u001b[0mloads\u001b[0m\u001b[1;33m(\u001b[0m\u001b[0mself\u001b[0m\u001b[1;33m.\u001b[0m\u001b[0mtext\u001b[0m\u001b[1;33m,\u001b[0m \u001b[1;33m**\u001b[0m\u001b[0mkwargs\u001b[0m\u001b[1;33m)\u001b[0m\u001b[1;33m\u001b[0m\u001b[1;33m\u001b[0m\u001b[0m\n\u001b[0m\u001b[0;32m    899\u001b[0m \u001b[1;33m\u001b[0m\u001b[0m\n\u001b[0;32m    900\u001b[0m     \u001b[1;33m@\u001b[0m\u001b[0mproperty\u001b[0m\u001b[1;33m\u001b[0m\u001b[1;33m\u001b[0m\u001b[0m\n",
      "\u001b[1;32mc:\\users\\dell\\appdata\\local\\programs\\python\\python38\\lib\\json\\__init__.py\u001b[0m in \u001b[0;36mloads\u001b[1;34m(s, cls, object_hook, parse_float, parse_int, parse_constant, object_pairs_hook, **kw)\u001b[0m\n\u001b[0;32m    355\u001b[0m             \u001b[0mparse_int\u001b[0m \u001b[1;32mis\u001b[0m \u001b[1;32mNone\u001b[0m \u001b[1;32mand\u001b[0m \u001b[0mparse_float\u001b[0m \u001b[1;32mis\u001b[0m \u001b[1;32mNone\u001b[0m \u001b[1;32mand\u001b[0m\u001b[1;33m\u001b[0m\u001b[1;33m\u001b[0m\u001b[0m\n\u001b[0;32m    356\u001b[0m             parse_constant is None and object_pairs_hook is None and not kw):\n\u001b[1;32m--> 357\u001b[1;33m         \u001b[1;32mreturn\u001b[0m \u001b[0m_default_decoder\u001b[0m\u001b[1;33m.\u001b[0m\u001b[0mdecode\u001b[0m\u001b[1;33m(\u001b[0m\u001b[0ms\u001b[0m\u001b[1;33m)\u001b[0m\u001b[1;33m\u001b[0m\u001b[1;33m\u001b[0m\u001b[0m\n\u001b[0m\u001b[0;32m    358\u001b[0m     \u001b[1;32mif\u001b[0m \u001b[0mcls\u001b[0m \u001b[1;32mis\u001b[0m \u001b[1;32mNone\u001b[0m\u001b[1;33m:\u001b[0m\u001b[1;33m\u001b[0m\u001b[1;33m\u001b[0m\u001b[0m\n\u001b[0;32m    359\u001b[0m         \u001b[0mcls\u001b[0m \u001b[1;33m=\u001b[0m \u001b[0mJSONDecoder\u001b[0m\u001b[1;33m\u001b[0m\u001b[1;33m\u001b[0m\u001b[0m\n",
      "\u001b[1;32mc:\\users\\dell\\appdata\\local\\programs\\python\\python38\\lib\\json\\decoder.py\u001b[0m in \u001b[0;36mdecode\u001b[1;34m(self, s, _w)\u001b[0m\n\u001b[0;32m    335\u001b[0m \u001b[1;33m\u001b[0m\u001b[0m\n\u001b[0;32m    336\u001b[0m         \"\"\"\n\u001b[1;32m--> 337\u001b[1;33m         \u001b[0mobj\u001b[0m\u001b[1;33m,\u001b[0m \u001b[0mend\u001b[0m \u001b[1;33m=\u001b[0m \u001b[0mself\u001b[0m\u001b[1;33m.\u001b[0m\u001b[0mraw_decode\u001b[0m\u001b[1;33m(\u001b[0m\u001b[0ms\u001b[0m\u001b[1;33m,\u001b[0m \u001b[0midx\u001b[0m\u001b[1;33m=\u001b[0m\u001b[0m_w\u001b[0m\u001b[1;33m(\u001b[0m\u001b[0ms\u001b[0m\u001b[1;33m,\u001b[0m \u001b[1;36m0\u001b[0m\u001b[1;33m)\u001b[0m\u001b[1;33m.\u001b[0m\u001b[0mend\u001b[0m\u001b[1;33m(\u001b[0m\u001b[1;33m)\u001b[0m\u001b[1;33m)\u001b[0m\u001b[1;33m\u001b[0m\u001b[1;33m\u001b[0m\u001b[0m\n\u001b[0m\u001b[0;32m    338\u001b[0m         \u001b[0mend\u001b[0m \u001b[1;33m=\u001b[0m \u001b[0m_w\u001b[0m\u001b[1;33m(\u001b[0m\u001b[0ms\u001b[0m\u001b[1;33m,\u001b[0m \u001b[0mend\u001b[0m\u001b[1;33m)\u001b[0m\u001b[1;33m.\u001b[0m\u001b[0mend\u001b[0m\u001b[1;33m(\u001b[0m\u001b[1;33m)\u001b[0m\u001b[1;33m\u001b[0m\u001b[1;33m\u001b[0m\u001b[0m\n\u001b[0;32m    339\u001b[0m         \u001b[1;32mif\u001b[0m \u001b[0mend\u001b[0m \u001b[1;33m!=\u001b[0m \u001b[0mlen\u001b[0m\u001b[1;33m(\u001b[0m\u001b[0ms\u001b[0m\u001b[1;33m)\u001b[0m\u001b[1;33m:\u001b[0m\u001b[1;33m\u001b[0m\u001b[1;33m\u001b[0m\u001b[0m\n",
      "\u001b[1;32mc:\\users\\dell\\appdata\\local\\programs\\python\\python38\\lib\\json\\decoder.py\u001b[0m in \u001b[0;36mraw_decode\u001b[1;34m(self, s, idx)\u001b[0m\n\u001b[0;32m    353\u001b[0m             \u001b[0mobj\u001b[0m\u001b[1;33m,\u001b[0m \u001b[0mend\u001b[0m \u001b[1;33m=\u001b[0m \u001b[0mself\u001b[0m\u001b[1;33m.\u001b[0m\u001b[0mscan_once\u001b[0m\u001b[1;33m(\u001b[0m\u001b[0ms\u001b[0m\u001b[1;33m,\u001b[0m \u001b[0midx\u001b[0m\u001b[1;33m)\u001b[0m\u001b[1;33m\u001b[0m\u001b[1;33m\u001b[0m\u001b[0m\n\u001b[0;32m    354\u001b[0m         \u001b[1;32mexcept\u001b[0m \u001b[0mStopIteration\u001b[0m \u001b[1;32mas\u001b[0m \u001b[0merr\u001b[0m\u001b[1;33m:\u001b[0m\u001b[1;33m\u001b[0m\u001b[1;33m\u001b[0m\u001b[0m\n\u001b[1;32m--> 355\u001b[1;33m             \u001b[1;32mraise\u001b[0m \u001b[0mJSONDecodeError\u001b[0m\u001b[1;33m(\u001b[0m\u001b[1;34m\"Expecting value\"\u001b[0m\u001b[1;33m,\u001b[0m \u001b[0ms\u001b[0m\u001b[1;33m,\u001b[0m \u001b[0merr\u001b[0m\u001b[1;33m.\u001b[0m\u001b[0mvalue\u001b[0m\u001b[1;33m)\u001b[0m \u001b[1;32mfrom\u001b[0m \u001b[1;32mNone\u001b[0m\u001b[1;33m\u001b[0m\u001b[1;33m\u001b[0m\u001b[0m\n\u001b[0m\u001b[0;32m    356\u001b[0m         \u001b[1;32mreturn\u001b[0m \u001b[0mobj\u001b[0m\u001b[1;33m,\u001b[0m \u001b[0mend\u001b[0m\u001b[1;33m\u001b[0m\u001b[1;33m\u001b[0m\u001b[0m\n",
      "\u001b[1;31mJSONDecodeError\u001b[0m: Expecting value: line 1 column 1 (char 0)"
     ]
    }
   ],
   "source": [
    "#add this first\n",
    "data =[-0.007540665222861067, -0.00953565424846012, -0.011761598114642419, -0.01421875091823774, -0.01690392347519759, -0.01981030816843552, -0.02292720024730932, -0.0255381092358443, -0.028348205009351517, -0.031322745773279606, -0.034419599930427015, -0.03759001647882926, -0.04077965615281236, -0.04392986640999232, -0.046979174694730105, -0.04986496608833598, -0.05252530376674166, -0.05490084389960266, -0.056936790997871925, -0.05858483548296104, -0.05980501261064398, -0.06056742099792385, -0.06085373998549093, -0.06065848798403949, -0.059989968804697716, -0.05887085970773444, -0.057338403404499305, -0.055444176340322206, -0.05325341703869733, -0.05084391081460661, -0.048304440435973504, -0.045732825957247134, -0.04323359056942343, -0.04091530248986164, -0.03888765523043619, -0.03725835961781714, -0.036129930298487996, -0.035596456779500206, -0.03574045401501742, -0.03662988988633244, -0.038315486444512256, -0.04082838837171607, -0.04417828573444453, -0.048352068802561494, -0.053313080635398975, -0.05900101852430045, -0.06533251855037377, -0.07220243886909182, -0.07948583734450482, -0.08704061836162603, -0.09471080263057136, -0.10233035317744557, -0.10972747112740729, -0.1167292569545434, -0.12316661720891371, -0.1288792838999893, -0.13372080422437796, -0.1375633526031877, -0.14030221537578338, -0.1418598012093755, -0.14218903743606381, -0.14127602410153534, -0.13914183335150662, -0.13584336160923172, -0.13147316539620213, -0.12615823808207452, -0.12005771367081076, -0.11335951419320955, -0.10627598855831805, -0.09903862193762421, -0.09189192500352372, -0.08508664069741757, -0.07887243176309296, -0.07349023419552435, -0.06916447924632436, -0.06609539901770974, -0.06445163741422585, -0.06436338889793897, -0.06591628186310308, -0.06914621144056649, -0.07403530827407402, -0.08050920558029369, -0.08843573709588852, -0.09762516398801808, -0.1078319902809995, -0.11875838479611849, -0.13005918409734554, -0.1413484066572504, -0.15220716463778206, -0.1621928175770331, -0.17084917313066947, -0.17771750503114386, -0.18234812870893571, -0.18431225155665618, -0.18321379844422273, -0.17870090446459783, -0.1704767664518454, -0.15830955278906933, -0.14204108739922905, -0.12159404833122658, -0.09697745352158926, -0.06829024540257811, -0.035722831100532204, 0.0004435151072747258, 0.03983942692545708, 0.0820123829874751, 0.1264337335831178, 0.17250768979053516, 0.21958209475945212, 0.266960747982635, 0.313917009862389, 0.3597083770049693, 0.40359168956168584, 0.44483861147610226, 0.4827510133498297, 0.5166758862035721, 0.5460194228105265, 0.5702599213617329, 0.5889591935561432, 0.601772195094507, 0.60845464005073, 0.6088684105318226, 0.6029846280652658, 0.5908843117703444, 0.5727566089734335, 0.5488946448554239, 0.519689097303622, 0.4856196597529318, 0.4472446069033594, 0.4051887243882119, 0.36012990250975613, 0.3127847250363336, 0.26389340598522765, 0.21420443977675563, 0.16445933288776793, 0.1153777781851515, 0.0676436167841947, 0.021891907116903527, -0.02130261228189743, -0.061435419935425624, -0.09808026816039972, -0.13089524940798394, -0.15962677563141675, -0.18411142896632568, -0.2042756968222316, -0.22013365774761762, -0.23178273472323316, -0.23939767854934862, -0.24322298456175356, -0.24356398005713317, -0.24077684675371774, -0.23525786180220465, -0.22743215197193864, -0.21774225858152055, -0.20663680566754133, -0.1945595511587454, -0.18193908102032244, -0.1691793802126624, -0.15665148278588728, -0.1446863675465666, -0.13356922661888979, -0.12353519306818524, -0.11476657176919394, -0.10739157607857629, -0.10148453275478686, -0.09706748002150802, -0.09411304964670557, -0.09254849422800004, -0.09226069620358521, -0.09310197594654847, -0.09489650297359348, -0.09744710695225983, -0.10054228379233865, -0.10396319645627103, -0.10749047986136374, -0.11091067387391593, -0.11402212729077757, -0.11664023814787478, -0.11860192089460166, -0.1197692180869455, -0.12003200241907643, -0.11930974327646074, -0.11755233972720591, -0.11474004819966035, -0.11088255732479078, -0.10601728394490023, -0.10020698260524523, -0.09353677556802084, -0.08611072125806725, -0.07804804593127981, -0.06947916623925608, -0.06054162935579276, -0.051376092652086286, -0.04212245687714344, -0.032916255822882726, -0.023885392004293744, -0.015147292490650274, -0.0068065422449250295, 0.0010469652586103531, 0.008339338190798224, 0.015013452854378263, 0.02102918872687229, 0.02636315965363163, 0.031007982448696972, 0.03497113578843687, 0.03827347162156497, 0.040947448199998335, 0.04303515817376877, 0.04458622698895964, 0.04565565615917914, 0.04630168300063536, 0.04658372334598067, 0.04656045685565553, 0.04628810614459108, 0.04581895138599648, 0.04520011171120741, 0.04447261397064945, 0.04367075862579682, 0.04282178205835436, 0.04194580473583386, 0.04105604575039401, 0.04015927649389507, 0.03925647983983156, 0.03834367631104442, 0.037412875403398056, 0.03645310853597001, 0.03545149997903542, 0.03439433349224851, 0.033268075160665274, 0.03206031687938568, 0.030760609909796417, 0.029361163688384453, 0.027857391373749416, 0.026248290222591373, 0.02453665154652253, 0.022729101483830335, 0.020190015397664865, 0.017657088149275205, 0.015166501210100922, 0.012756027133629094, 0.010463212035055828, -0.0366825179342227, -0.04226073320700407, -0.04727957315187786, -0.051622577549138876, -0.05520778483542243, -0.05799339253944945, -0.0599802936180752, -0.05613522357950134, -0.052541450521939315, -0.0492801743146953, -0.04642683699007931, -0.04404883032024114, -0.0422032736288723, -0.040934929373575665, -0.040274324762261136, -0.04023614625452119, -0.040817970150085044, -0.04199938655633386, -0.043741565907152724, -0.0459873070065826, -0.04866159350176336, -0.05167267203482742, -0.05491365043647084, -0.0582645986195226, -0.06159511877336506, -0.0647673355504032, -0.06763924169610701, -0.07006832053133, -0.07191535436373435, -0.07304831776771349, -0.07334624716450246, -0.07270297362661775, -0.07103060461362906, -0.06826264261641736, -0.06435663453734732, -0.05929625504529296, -0.05309273998232496, -0.04578560191159997, -0.03744257871866081, -0.028158787339654063, -0.018055077623024048, -0.007275605387978329, 0.004015331788237851, 0.015637128396409385, 0.02739728376966687, 0.03909628202451107, 0.050532808905258866, 0.06150916011214658, 0.07183668447513726, 0.08134109856836343, 0.08986750743631171, 0.09728496927671752, 0.10349045029974198, 0.10841202950086203, 0.11201123152352999, 0.11428438876018535, 0.11526296080122975, 0.115012769598275, 0.11363214143622494, 0.1112489810740951, 0.10801683819726388, 0.10411006054808836, 0.0997181606668117, 0.09503955298869599, 0.09027484405814919, 0.08561987986623716, 0.08125876993587555, 0.07735711705342653, 0.07405568393126231, 0.07146472323226205, 0.06965918515607708, 0.0686749972654863, 0.06850658473766535, 0.06910576630835027, 0.07038212260736093, 0.07220489033906474, 0.07440638900258956, 0.07678693789061702, 0.07912117138935021, 0.08116561164300994, 0.08266731099755834, 0.0833733338434644, 0.08304081002081423, 0.0814472612097942, 0.07840087893002613, 0.07375041894089614, 0.0673943727632624, 0.059289083252743915, 0.049455487872675556, 0.03798420045383566, 0.02503867937897916, 0.010856276562299906, -0.004252983734299754, -0.01990998562633304, -0.03567248435439499, -0.0510434031323722, -0.065481344248264, -0.07841312322188218, -0.08924806621238408, -0.09739374714561679, -0.10227278427606624, -0.1033402680521041, -0.10010135495566622, -0.09212853691668343, -0.07907808412220638, -0.06070516135422789, -0.03687713480757023, -0.007584617649264765, 0.02705015205857044, 0.06676794891214405, 0.11117049060910963, 0.15972185805889855, 0.21175351312007043, 0.26647292724987515, 0.3229757363794142, 0.3802612387821134, 0.4372509563927263, 0.492809888771142, 0.5457700054211923, 0.5949554490359745, 0.6392088617692011, 0.6774182008281961, 0.7085433801637595, 0.731642062968834, 0.745893935780564, 0.7506228193838713, 0.7453160140865019, 0.7296403363975886, 0.7034543793090974, 0.6668166173939536, 0.6199890785140483, 0.5634364134319768, 0.49782031011121464, 0.4239893178358324, 0.3429642642352846, 0.255919562596872, 0.16416081430099663, 0.06909920880791237, -0.027776691392643105, -0.12493112349300262, -0.22081254440845308, -0.3138855533822785, -0.40266255747121915, -0.48573442526430616, -0.5617993990558706, -0.6296895797076385, -0.6883943603703857, -0.7370802633648126, -0.7751067266651946, -0.8020374900231647, -0.8176473429383959, -0.8219241143293926, -0.8150659036495127, -0.7974736720607033, -0.7697394269067406, -0.7326303400542534, -0.6870692378645402, -0.6341119851079384, -0.5749223549047292, -0.510745030081699, -0.4428774169640366, -0.37264096988149903, -0.3013527233823867, -0.23029770966565613, -0.16070290190906436, -0.0937132713071107, -0.030370478477117414, 0.028405359449235272, 0.08183047385452012, 0.12926856586755164, 0.1702380885434118, 0.20441563694885484, 0.231635494062453, 0.2518854773786521, 0.2652993215763615, 0.2721459142832286, 0.27281577284675007, 0.2678052084754118, 0.2576986688894949, 0.2431497808896376, 0.22486162960716657, 0.20356681166689053, 0.18000778550908259, 0.15491801451250942, 0.1290043585206972, 0.10293111839745528, 0.07730607808364884, 0.05266882125644615, 0.02948152720636685, 0.008122375124375874, -0.01111839017909005, -0.028039752879760294, -0.042528674183918105, -0.05455645299721912, -0.06417291753637311, -0.07149871699506355, -0.07671602371109933, -0.08005798734827799, -0.08179730291037662, -0.08223426377415095, -0.08168466950653097, -0.08046794646177527, -0.0788958177574955, -0.07726182917101115, -0.07583199995637213, -0.07483682390350214, -0.07446479761462822, -0.07485760150777715, -0.07610700605185566, -0.0782535227565861, -0.08128676798784397, -0.0851474591590961, -0.08973091853051776, -0.0948919208292368, -0.10045068809457926, -0.10619980924741323, -0.11191184335576107, -0.11734735466463461, -0.12226312419493882, -0.12642028689438223, -0.12959215453851547, -0.13157150224339378, -0.1321771198131917, -0.13125945732344674, -0.12870522634769307, -0.12444085301556479, -0.11843471554965712, -0.11069813596702197, -0.10128513217596266, -0.09029097173247834, -0.07784960110857725, -0.06413005363793724, -0.049331964639505094, -0.03368034301333433, -0.01741976444263233, -0.0008081619653377186, 0.015889605001427415, 0.032408222035205686, 0.04848825531983327, 0.0638821850412683, 0.07835998408503282, 0.09171410723146153, 0.10376377679342585, 0.11435847376085462, 0.12338056827045617, 0.1307470488549307, 0.1364103356970098, 0.14035818829998062, 0.14261274191394263, 0.14322872911479947, 0.14229096258721016, 0.13991117196883132, 0.13622430122438528, 0.1313843831909403, 0.12556011453258384, 0.11893025733074562, 0.11167899298457565, 0.10399135016791063, 0.09604882153582459, 0.08802527402059258, 0.08008324529343351, 0.07237070473366748, 0.06501834151523284, 0.058137425686719486, 0.05181827088594358, 0.04612931008609882, 0.04111677898860285, 0.036804985795192716, 0.033197131501636994, 0.030276631897498445, 0.02800888141041458, 0.026343390013890074, 0.025216217770970127, 0.02455262728961032, 0.024269872428165917, 0.024280041954986613, 0.02449287941763846, 0.024818505043009975, 0.02516997185016548, 0.02546559605461325, 0.02563101098657632, 0.025600903826758475, 0.025320405159333443, 0.02474611232968672, 0.023846738556985603, 0.022603390387519042, 0.021009486105568236, 0.019070336895713892, 0.01680242066064031, 0.014232385268004742, 0.01139582349787803, 0.008335866002180881, 0.005101641127918062, 0.0017466514994229883, -0.001672883154073881, -0.005099669216816561, -0.006702723005787093, -0.007872375963401696, -0.008591927725354855, -0.008863473084319487, -0.008707376856076296]\n",
    "\n",
    "print(requests.post(\"http://127.0.0.1:5000/ecgs/patientless/add\", data=json.dumps({\"data\":data,\"ecgId\":\"1\",\n",
    "\"fs\":360,\n",
    "\"picture\":\"okay <3\" }), headers={ \"Content-Type\":\"application/json\"}).json())"
   ]
  },
  {
   "cell_type": "code",
   "execution_count": 32,
   "metadata": {},
   "outputs": [
    {
     "name": "stdout",
     "output_type": "stream",
     "text": [
      "{'status': 'success'}\n"
     ]
    }
   ],
   "source": [
    "print(requests.post(\"http://127.0.0.1:5000/ecgs/patientrecords/setpatient\", data=json.dumps({\"ecgId\":\"1\", \"patientId\":\"P0001\", \"myUsername\":\"admin\"}), headers={ \"Content-Type\":\"application/json\"}).json())\n"
   ]
  },
  {
   "cell_type": "code",
   "execution_count": null,
   "metadata": {},
   "outputs": [],
   "source": [
    "\n",
    "print(requests.post(\"http://127.0.0.1:5000/ecgs/patientrecords/update\", data=json.dumps({\"ecgId\":1,\"bpm\":100,'pExtracted': [60, 271], 'qExtracted': [93,342], 'rExtracted': [121,366] , 'sExtracted': [149,392], 'tExtracted': [180,463], \"machineDiagnosisKey\":['IVCDWB block', 'Stomachache', \"bellyache\"], \"machineDiagnosisProba\":[0.666, 0.222, 0.69], \"machineDiagnosisBoolean\":[\"false\", \"false\", \"false\"], \"humanDiagnosis\":\"Billie !!!\"}), headers={ \"Content-Type\":\"application/json\"}).json())"
   ]
  },
  {
   "cell_type": "code",
   "execution_count": 31,
   "metadata": {},
   "outputs": [
    {
     "name": "stdout",
     "output_type": "stream",
     "text": [
      "{'status': 'success'}\n"
     ]
    }
   ],
   "source": [
    "print(requests.post(\"http://127.0.0.1:5000/ecgs/patientless/add\", data=json.dumps({\"data\":[-0.010509190561483563, -0.013074927236370095, -0.015770556248002377, -0.01854320910140195, -0.021338230098245016, -0.024101768751602064, -0.026783201645896367, -0.0284026468170294, -0.02982335584826178, -0.03104009565978849, -0.032052796440649615, -0.03286671298309803, -0.033492434930785055, -0.033945738082387704, -0.034247273386625254, -0.03442209510255183, -0.03449903464667572, -0.03450993175828026, -0.03448873962904199, -0.034470525400201006, -0.0344903917673596, -0.03458234919152126, -0.03477817124736328, -0.03510626781335515, -0.03559061201082102, -0.03624975694282907, -0.03709597731013086, -0.03813456886364941, -0.03936333539919353, -0.040772288654183905, -0.042343581108733944, -0.044051685440729016, -0.045863827386798, -0.047740671199356655, -0.04963724897204336, -0.05150411706122382, -0.05328871490459239, -0.05493689398253316, -0.056394577738114966, -0.05760950721476052, -0.05853302221914227, -0.05912182418011153, -0.05933966473118987, -0.05915890353531359, -0.05856188009308207, -0.05754204727749061, -0.05610481911371517, -0.05426809181113946, -0.05206240513933897, -0.049530720747618245, -0.04672780473367524, -0.04371921339751274, -0.04057989335621454, -0.037392419693743975, -0.03424490820251217, -0.0312286496505039, -0.028435524986417264, -0.025955270091597614, -0.023872666738736552, -0.02226474249405183, -0.021198066117940558, -0.020726226351149905, -0.020887580657590776, -0.02170335644344525, -0.02317618047799968, -0.025289102781908747, -0.028005169286626982, -0.031267583352831835, -0.035000480095468314, -0.039110319803226413, -0.043487888031492686, -0.04801087071534591, -0.052546953459163034, -0.05695737560341261, -0.06110085234710984, -0.06483776270631803, -0.06803448797676828, -0.07056777515697037, -0.07232899292702503, -0.07322814463595027, -0.07319750359819446, -0.07219474100015334, -0.07020542591254407, -0.06724479021088595, -0.06335866841126464, -0.058623543190553094, -0.05314565121387201, -0.04705913025647702, -0.04052321679882459, -0.033718532522079604, -0.026842527599581372, -0.0201041774860809, -0.013718057149531773, -0.007897941475319137, -0.0028501020397787204, 0.0012335121997293736, 0.004182010226761548, 0.005852003126027625, 0.006133548686418913, 0.004955393011890321, 0.0022893169774203647, -0.0018465871036284463, -0.007385859693120047, -0.014212961097077571, -0.022163989290760626, -0.03102887816770936, -0.04055508444237697, -0.050452727883013894, -0.060401105083300106, -0.07005645287505252, -0.07906079505997081, -0.08705166672048933, -0.09367247524850736, -0.0985832276217646, -0.10147133046291448, -0.10206215398689436, -0.10012904384365004, -0.09550246664596508, -0.08807798594634034, -0.07782278564432783, -0.06478048704830547, -0.04907404359159015, -0.030906542750899386, -0.010559797017557555, 0.011609336425561813, 0.03517490582727234, 0.05965001905147412, 0.0844970711934389, 0.10913985131899845, 0.13297727341520935, 0.15539842097415002, 0.1757985456735405, 0.19359562000953234, 0.20824701293246692, 0.219265837754388, 0.22623651377744222, 0.2288290878593184, 0.22681187976602438, 0.22006204558117448, 0.20857369619051336, 0.19246326211695605, 0.17197186056470093, 0.14746449392818473, 0.1194259894221113, 0.08845367482843008, 0.055246873370798054, 0.020593389013192513, -0.01464676043943131, -0.049560023662960154, -0.08319999647766613, -0.11460962482613771, -0.1428443985046559, -0.166995963743381, -0.18621555701795037, -0.1997366524483865, -0.2068962214301925, -0.20715402592346957, -0.20010940580687844, -0.1855150751228835, -0.16328751068089886, -0.133513597697724, -0.09645328890228803, -0.05253813343942634, -0.0023656373270895814, 0.05331047469518302, 0.11359391830938152, 0.17746314766345775, 0.24379191200824146, 0.3113726014611665, 0.37894183491724837, 0.4452076795332556, 0.5088778434367847, 0.568688152823113, 0.6234306123810566, 0.671980354499633, 0.7133208078804654, 0.7465664594104036, 0.7709826433067992, 0.7860018670150356, 0.791236272049865, 0.7864859274789333, 0.7717427612851167, 0.7471900474185946, 0.7131974808217175, 0.6703119858920277, 0.6192445125990566, 0.5608531757855574, 0.4961231842881522, 0.4261440849400276, 0.35208491018439897, 0.27516786528781145, 0.19664122083909621, 0.1177520877117752, 0.039719744844541716, -0.03628983452554434, -0.10918765423086324, -0.17798301744761447, -0.2418020241644989, -0.299902850644778, -0.3516875092231088, -0.39670988463536017, -0.43467994440030644, -0.46546412265879755, -0.48908197647030105, -0.5056993081335474, -0.5156180341042498, -0.5192631582680827, -0.5171672727647191, -0.509953061705644, -0.49831432086199806, -0.4829960290400669, -0.46477401418559705, -0.44443474948711253, -0.4227557925368087, -0.40048734500976685, -0.3783353627510432, -0.35694658833554826, -0.33689581205508884, -0.3186755950403737, -0.30268861210649295, -0.28924269422454796, -0.2785485735491497, -0.27072025985696324, -0.26577790810501106, -0.2636529744170378, -0.26419540371068173, -0.26718254764870336, -0.27232947756952536, -0.27930033411802946, -0.2877203436992602, -0.2971881315121447, -0.3072879713531904, -0.31760163287010323, -0.32771951647680875, -0.3372508034646022, -0.34583239252069775, -0.35313644231844776, -0.3588763914102664, -0.3628113796399013, -0.36474904802075103, -0.3645467448980245, -0.3621112137389041, -0.3573968807498468, -0.3504028975714359, -0.34116912463900234, -0.329771263754638, -0.3163153635813698, -0.30093192899032384, -0.283769864568667, -0.26499047447486096, -0.24476172577699046, -0.22325296119674717, -0.20063022074083342, -0.17705230110056108, -0.15266764810141603, -0.1276121421044508, -0.10200780033243893, -0.07596238482300734, -0.049569871243665777, -0.022911703188655166, 0.003941270262834192, 0.030926298242811522, 0.05798581471215924, 0.08506426126123309, 0.11210480517159283, 0.13904611183048013, 0.1658193249631847, 0.19234539722433733, 0.21853289797246314, 0.2442764051899413, 0.26945556526752723, 0.29393487860348044, 0.3175642415871841, 0.34018024749070985, 0.3616082210227735, 0.3816649347206203, 0.4001619308201323, 0.41690935052171413, 0.4317201543212797, 0.44441460283869666, 0.45482485774807185, 0.4627995572446778, 0.46820822006889806, 0.4709453363929429, 0.47093401265895984, 0.46812905039800334, 0.4625193556949518, 0.4541295957252368, 0.4430210410190631, 0.42929155608724023, 0.41307472600869033, 0.3945381317556263, 0.37388081164854436, 0.35132996965091984, 0.32713701254720273, 0.301573016784429, 0.27492374137425984, 0.247484315328905, 0.21955373633555705, 0.19142932157481246, 0.16340125169786285, 0.13574734505663769, 0.10872819151043171, 0.08258276380205988, 0.05752460999569288, 0.03373871327216887, 0.01137908603022871, -0.009432855659859497, -0.02860911303091706, -0.046095118911147086, -0.06186896497595134, -0.0759398823829149, -0.08834603545182587, -0.09915170523033216, -0.10844395445989415, -0.11632887726289785, -0.1229275455375949, -0.12837176939675418, -0.13279979094154945, -0.13635202924629086, -0.13916698976019215, -0.14137744361779472, -0.14310697188041724, -0.14446695686931632, -0.1455540879190076, -0.14644843254435963, -0.14721210667712226, -0.14788855980243193, -0.1485024730307806, -0.14906025087965077, -0.14955107128760123, -0.14994844357761655, -0.1502122111096091, -0.15029092453602041, -0.15012450315211293, -0.14964709599148415, -0.14879005115717317, -0.14748490141996143, -0.14566627630083723, -0.14327465555255897, -0.1402588859655643, -0.13657839248448966, -0.13220502541925608, -0.12712449771280301, -0.12133737939894043, -0.11485963014214312, -0.10772266468320153, -0.09997295971236188, -0.09167122376367587, -0.08289116380726949, -0.07371789298441676, -0.06424603310436963, -0.05457757287610287, -0.044819548215758724, -0.03508161424754392, -0.027164283909759453, -0.020126945809791238, -0.014043162216763225, -0.008956699747944746, -0.004880148261930732],\n",
    "\"ecgId\":0,\n",
    "\"fs\":360,\n",
    "\"picture\":\"okay\" }), headers={ \"Content-Type\":\"application/json\"}).json())"
   ]
  },
  {
   "cell_type": "code",
   "execution_count": null,
   "metadata": {},
   "outputs": [],
   "source": [
    "\n",
    "print(requests.post(\"http://127.0.0.1:5000/ecgs/patientrecords/setpatient\", data=json.dumps({\"ecgId\":0, \"patientId\":\"P0001\", \"myUsername\":\"admin\"}), headers={ \"Content-Type\":\"application/json\"}).json())\n",
    "\n",
    "print(requests.post(\"http://127.0.0.1:5000/ecgs/patientrecords/update\", data=json.dumps({\"ecgId\":0,\"bpm\":80,'pExtracted': [42], 'qExtracted': [156], 'rExtracted': [179], 'sExtracted': [206], 'tExtracted': [283], \"machineDiagnosisKey\":['AV block', 'VFrib, VTach, Supratach'], \"machineDiagnosisProba\":[0.8, 0.5], \"machineDiagnosisBoolean\":[\"true\", \"false\"], \"humanDiagnosis\":\"this is correct\"}), headers={ \"Content-Type\":\"application/json\"}).json())"
   ]
  },
  {
   "cell_type": "code",
   "execution_count": 1,
   "metadata": {},
   "outputs": [
    {
     "ename": "FileNotFoundError",
     "evalue": "[Errno 2] No such file or directory: 'images/fig1.png'",
     "output_type": "error",
     "traceback": [
      "\u001b[1;31m---------------------------------------------------------------------------\u001b[0m",
      "\u001b[1;31mFileNotFoundError\u001b[0m                         Traceback (most recent call last)",
      "\u001b[1;32m<ipython-input-1-43ea9c9976a1>\u001b[0m in \u001b[0;36m<module>\u001b[1;34m\u001b[0m\n\u001b[0;32m      2\u001b[0m \u001b[1;33m\u001b[0m\u001b[0m\n\u001b[0;32m      3\u001b[0m \u001b[0mheaders\u001b[0m \u001b[1;33m=\u001b[0m \u001b[1;33m{\u001b[0m\u001b[1;34m'Content-Type'\u001b[0m \u001b[1;33m:\u001b[0m \u001b[1;34m'image/png'\u001b[0m\u001b[1;33m}\u001b[0m\u001b[1;33m\u001b[0m\u001b[1;33m\u001b[0m\u001b[0m\n\u001b[1;32m----> 4\u001b[1;33m \u001b[0mimg_file\u001b[0m \u001b[1;33m=\u001b[0m \u001b[0mopen\u001b[0m\u001b[1;33m(\u001b[0m\u001b[1;34m'images/fig1.png'\u001b[0m\u001b[1;33m,\u001b[0m \u001b[1;34m'rb'\u001b[0m\u001b[1;33m)\u001b[0m\u001b[1;33m\u001b[0m\u001b[1;33m\u001b[0m\u001b[0m\n\u001b[0m\u001b[0;32m      5\u001b[0m \u001b[0mresponse\u001b[0m \u001b[1;33m=\u001b[0m \u001b[0mrequests\u001b[0m\u001b[1;33m.\u001b[0m\u001b[0mpost\u001b[0m\u001b[1;33m(\u001b[0m\u001b[1;34m\"http://127.0.0.1:5000/statistics/figure1/get\"\u001b[0m\u001b[1;33m,\u001b[0m \u001b[0mdata\u001b[0m\u001b[1;33m=\u001b[0m\u001b[0mimg_file\u001b[0m\u001b[1;33m.\u001b[0m\u001b[0mread\u001b[0m\u001b[1;33m(\u001b[0m\u001b[1;33m)\u001b[0m\u001b[1;33m,\u001b[0m \u001b[0mheaders\u001b[0m\u001b[1;33m=\u001b[0m\u001b[0mheaders\u001b[0m\u001b[1;33m,\u001b[0m \u001b[0mverify\u001b[0m\u001b[1;33m=\u001b[0m\u001b[1;32mFalse\u001b[0m\u001b[1;33m)\u001b[0m\u001b[1;33m.\u001b[0m\u001b[0mtext\u001b[0m\u001b[1;33m\u001b[0m\u001b[1;33m\u001b[0m\u001b[0m\n",
      "\u001b[1;31mFileNotFoundError\u001b[0m: [Errno 2] No such file or directory: 'images/fig1.png'"
     ]
    }
   ],
   "source": [
    "import requests, json\n",
    "\n",
    "headers = {'Content-Type' : 'image/png'}\n",
    "img_file = open('images/fig1.png', 'rb')\n",
    "response = requests.post(\"http://127.0.0.1:5000/statistics/figure1/get\", data=img_file.read(), headers=headers, verify=False).text"
   ]
  },
  {
   "cell_type": "code",
   "execution_count": null,
   "metadata": {},
   "outputs": [],
   "source": []
  }
 ],
 "metadata": {
  "kernelspec": {
   "display_name": "Python 3",
   "language": "python",
   "name": "python3"
  },
  "language_info": {
   "codemirror_mode": {
    "name": "ipython",
    "version": 3
   },
   "file_extension": ".py",
   "mimetype": "text/x-python",
   "name": "python",
   "nbconvert_exporter": "python",
   "pygments_lexer": "ipython3",
   "version": "3.8.1"
  }
 },
 "nbformat": 4,
 "nbformat_minor": 2
}
